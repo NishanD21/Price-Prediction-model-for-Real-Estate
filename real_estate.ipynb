{
 "cells": [
  {
   "cell_type": "markdown",
   "id": "be2b06bc",
   "metadata": {},
   "source": [
    "### Real Estate Price Prediction"
   ]
  },
  {
   "cell_type": "markdown",
   "id": "cf7f48a1",
   "metadata": {},
   "source": [
    "#### Fire the System"
   ]
  },
  {
   "cell_type": "code",
   "execution_count": 656,
   "id": "3923f639",
   "metadata": {},
   "outputs": [],
   "source": [
    "# importing libraries\n",
    "\n",
    "import pandas as pd\n",
    "import numpy as np\n",
    "import matplotlib.pyplot as plt\n",
    "plt.style.use('dark_background')"
   ]
  },
  {
   "cell_type": "code",
   "execution_count": 657,
   "id": "32960c17",
   "metadata": {},
   "outputs": [],
   "source": [
    "# importing data\n",
    "\n",
    "df_fl = pd.read_csv('florida_homes.csv')\n",
    "df_id = pd.read_csv('idaho_homes.csv')\n",
    "df_vi = pd.read_csv('virginia homes.csv')"
   ]
  },
  {
   "cell_type": "markdown",
   "id": "598fc551",
   "metadata": {},
   "source": [
    "#### Data Exploration"
   ]
  },
  {
   "cell_type": "code",
   "execution_count": 658,
   "id": "0d294338",
   "metadata": {},
   "outputs": [
    {
     "data": {
      "text/html": [
       "<div>\n",
       "<style scoped>\n",
       "    .dataframe tbody tr th:only-of-type {\n",
       "        vertical-align: middle;\n",
       "    }\n",
       "\n",
       "    .dataframe tbody tr th {\n",
       "        vertical-align: top;\n",
       "    }\n",
       "\n",
       "    .dataframe thead th {\n",
       "        text-align: right;\n",
       "    }\n",
       "</style>\n",
       "<table border=\"1\" class=\"dataframe\">\n",
       "  <thead>\n",
       "    <tr style=\"text-align: right;\">\n",
       "      <th></th>\n",
       "      <th>type</th>\n",
       "      <th>sub_type</th>\n",
       "      <th>text</th>\n",
       "      <th>status</th>\n",
       "      <th>year_built</th>\n",
       "      <th>year_renovated</th>\n",
       "      <th>soldOn</th>\n",
       "      <th>lot_sqft</th>\n",
       "      <th>sqft</th>\n",
       "      <th>stories</th>\n",
       "      <th>baths</th>\n",
       "      <th>baths_full_calc</th>\n",
       "      <th>beds</th>\n",
       "      <th>garage</th>\n",
       "      <th>listPrice</th>\n",
       "      <th>url</th>\n",
       "    </tr>\n",
       "  </thead>\n",
       "  <tbody>\n",
       "    <tr>\n",
       "      <th>0</th>\n",
       "      <td>single_family</td>\n",
       "      <td>NaN</td>\n",
       "      <td>Charming Brick Home in Sought-After Wedgefield...</td>\n",
       "      <td>for_sale</td>\n",
       "      <td>1990.0</td>\n",
       "      <td>NaN</td>\n",
       "      <td>1990-11-01</td>\n",
       "      <td>10454.0</td>\n",
       "      <td>2507.0</td>\n",
       "      <td>2.0</td>\n",
       "      <td>3.0</td>\n",
       "      <td>2.0</td>\n",
       "      <td>3.0</td>\n",
       "      <td>2.0</td>\n",
       "      <td>450000.0</td>\n",
       "      <td>https://www.realtor.com/realestateandhomes-det...</td>\n",
       "    </tr>\n",
       "    <tr>\n",
       "      <th>1</th>\n",
       "      <td>single_family</td>\n",
       "      <td>NaN</td>\n",
       "      <td>Welcome to this beautifully refreshed 3-bedroo...</td>\n",
       "      <td>for_sale</td>\n",
       "      <td>1978.0</td>\n",
       "      <td>NaN</td>\n",
       "      <td>2003-08-29</td>\n",
       "      <td>87120.0</td>\n",
       "      <td>1145.0</td>\n",
       "      <td>1.0</td>\n",
       "      <td>2.0</td>\n",
       "      <td>2.0</td>\n",
       "      <td>3.0</td>\n",
       "      <td>NaN</td>\n",
       "      <td>235000.0</td>\n",
       "      <td>https://www.realtor.com/realestateandhomes-det...</td>\n",
       "    </tr>\n",
       "    <tr>\n",
       "      <th>2</th>\n",
       "      <td>single_family</td>\n",
       "      <td>NaN</td>\n",
       "      <td>Charming home is situated in the highly sought...</td>\n",
       "      <td>for_sale</td>\n",
       "      <td>2006.0</td>\n",
       "      <td>NaN</td>\n",
       "      <td>2017-06-21</td>\n",
       "      <td>7405.0</td>\n",
       "      <td>1319.0</td>\n",
       "      <td>1.0</td>\n",
       "      <td>2.0</td>\n",
       "      <td>2.0</td>\n",
       "      <td>2.0</td>\n",
       "      <td>1.0</td>\n",
       "      <td>154900.0</td>\n",
       "      <td>https://www.realtor.com/realestateandhomes-det...</td>\n",
       "    </tr>\n",
       "    <tr>\n",
       "      <th>3</th>\n",
       "      <td>single_family</td>\n",
       "      <td>NaN</td>\n",
       "      <td>Foreclosure Auction Ends June 24, 2025 at 11:0...</td>\n",
       "      <td>for_sale</td>\n",
       "      <td>1962.0</td>\n",
       "      <td>NaN</td>\n",
       "      <td>2014-09-03</td>\n",
       "      <td>NaN</td>\n",
       "      <td>2633.0</td>\n",
       "      <td>1.0</td>\n",
       "      <td>2.0</td>\n",
       "      <td>2.0</td>\n",
       "      <td>4.0</td>\n",
       "      <td>2.0</td>\n",
       "      <td>200000.0</td>\n",
       "      <td>https://www.realtor.com/realestateandhomes-det...</td>\n",
       "    </tr>\n",
       "    <tr>\n",
       "      <th>4</th>\n",
       "      <td>single_family</td>\n",
       "      <td>NaN</td>\n",
       "      <td>Nestled on 2 acres in the heart of San Mateo, ...</td>\n",
       "      <td>for_sale</td>\n",
       "      <td>1889.0</td>\n",
       "      <td>NaN</td>\n",
       "      <td>2016-09-16</td>\n",
       "      <td>87120.0</td>\n",
       "      <td>4624.0</td>\n",
       "      <td>3.0</td>\n",
       "      <td>9.0</td>\n",
       "      <td>6.0</td>\n",
       "      <td>7.0</td>\n",
       "      <td>2.0</td>\n",
       "      <td>399000.0</td>\n",
       "      <td>https://www.realtor.com/realestateandhomes-det...</td>\n",
       "    </tr>\n",
       "  </tbody>\n",
       "</table>\n",
       "</div>"
      ],
      "text/plain": [
       "            type sub_type                                               text  \\\n",
       "0  single_family      NaN  Charming Brick Home in Sought-After Wedgefield...   \n",
       "1  single_family      NaN  Welcome to this beautifully refreshed 3-bedroo...   \n",
       "2  single_family      NaN  Charming home is situated in the highly sought...   \n",
       "3  single_family      NaN  Foreclosure Auction Ends June 24, 2025 at 11:0...   \n",
       "4  single_family      NaN  Nestled on 2 acres in the heart of San Mateo, ...   \n",
       "\n",
       "     status  year_built  year_renovated      soldOn  lot_sqft    sqft  \\\n",
       "0  for_sale      1990.0             NaN  1990-11-01   10454.0  2507.0   \n",
       "1  for_sale      1978.0             NaN  2003-08-29   87120.0  1145.0   \n",
       "2  for_sale      2006.0             NaN  2017-06-21    7405.0  1319.0   \n",
       "3  for_sale      1962.0             NaN  2014-09-03       NaN  2633.0   \n",
       "4  for_sale      1889.0             NaN  2016-09-16   87120.0  4624.0   \n",
       "\n",
       "   stories  baths  baths_full_calc  beds  garage  listPrice  \\\n",
       "0      2.0    3.0              2.0   3.0     2.0   450000.0   \n",
       "1      1.0    2.0              2.0   3.0     NaN   235000.0   \n",
       "2      1.0    2.0              2.0   2.0     1.0   154900.0   \n",
       "3      1.0    2.0              2.0   4.0     2.0   200000.0   \n",
       "4      3.0    9.0              6.0   7.0     2.0   399000.0   \n",
       "\n",
       "                                                 url  \n",
       "0  https://www.realtor.com/realestateandhomes-det...  \n",
       "1  https://www.realtor.com/realestateandhomes-det...  \n",
       "2  https://www.realtor.com/realestateandhomes-det...  \n",
       "3  https://www.realtor.com/realestateandhomes-det...  \n",
       "4  https://www.realtor.com/realestateandhomes-det...  "
      ]
     },
     "execution_count": 658,
     "metadata": {},
     "output_type": "execute_result"
    }
   ],
   "source": [
    "df_fl.head()"
   ]
  },
  {
   "cell_type": "code",
   "execution_count": 659,
   "id": "a9aa1199",
   "metadata": {},
   "outputs": [
    {
     "data": {
      "text/plain": [
       "(6572, 16)"
      ]
     },
     "execution_count": 659,
     "metadata": {},
     "output_type": "execute_result"
    }
   ],
   "source": [
    "df_fl.shape"
   ]
  },
  {
   "cell_type": "code",
   "execution_count": 660,
   "id": "e2d86fe2",
   "metadata": {},
   "outputs": [
    {
     "data": {
      "text/plain": [
       "Index(['type', 'sub_type', 'text', 'status', 'year_built', 'year_renovated',\n",
       "       'soldOn', 'lot_sqft', 'sqft', 'stories', 'baths', 'baths_full_calc',\n",
       "       'beds', 'garage', 'listPrice', 'url'],\n",
       "      dtype='object')"
      ]
     },
     "execution_count": 660,
     "metadata": {},
     "output_type": "execute_result"
    }
   ],
   "source": [
    "df_fl.columns"
   ]
  },
  {
   "cell_type": "code",
   "execution_count": 661,
   "id": "22391148",
   "metadata": {},
   "outputs": [
    {
     "data": {
      "text/plain": [
       "type                  0\n",
       "sub_type           5713\n",
       "text                 14\n",
       "status                0\n",
       "year_built          907\n",
       "year_renovated     6572\n",
       "soldOn             2154\n",
       "lot_sqft           1189\n",
       "sqft                482\n",
       "stories             905\n",
       "baths               254\n",
       "baths_full_calc     440\n",
       "beds                435\n",
       "garage             1569\n",
       "listPrice             9\n",
       "url                   0\n",
       "dtype: int64"
      ]
     },
     "execution_count": 661,
     "metadata": {},
     "output_type": "execute_result"
    }
   ],
   "source": [
    "df_fl.isnull().sum()"
   ]
  },
  {
   "cell_type": "code",
   "execution_count": 662,
   "id": "625569de",
   "metadata": {},
   "outputs": [
    {
     "data": {
      "text/html": [
       "<div>\n",
       "<style scoped>\n",
       "    .dataframe tbody tr th:only-of-type {\n",
       "        vertical-align: middle;\n",
       "    }\n",
       "\n",
       "    .dataframe tbody tr th {\n",
       "        vertical-align: top;\n",
       "    }\n",
       "\n",
       "    .dataframe thead th {\n",
       "        text-align: right;\n",
       "    }\n",
       "</style>\n",
       "<table border=\"1\" class=\"dataframe\">\n",
       "  <thead>\n",
       "    <tr style=\"text-align: right;\">\n",
       "      <th></th>\n",
       "      <th>type</th>\n",
       "      <th>sub_type</th>\n",
       "      <th>text</th>\n",
       "      <th>status</th>\n",
       "      <th>year_built</th>\n",
       "      <th>year_renovated</th>\n",
       "      <th>soldOn</th>\n",
       "      <th>lot_sqft</th>\n",
       "      <th>stories</th>\n",
       "      <th>baths</th>\n",
       "      <th>baths_full</th>\n",
       "      <th>baths_full_calc</th>\n",
       "      <th>beds</th>\n",
       "      <th>garage</th>\n",
       "      <th>listPrice</th>\n",
       "      <th>url</th>\n",
       "    </tr>\n",
       "  </thead>\n",
       "  <tbody>\n",
       "    <tr>\n",
       "      <th>0</th>\n",
       "      <td>single_family</td>\n",
       "      <td>NaN</td>\n",
       "      <td>Although the home is likely a tear-down due to...</td>\n",
       "      <td>for_sale</td>\n",
       "      <td>1993.0</td>\n",
       "      <td>NaN</td>\n",
       "      <td>NaN</td>\n",
       "      <td>49223.0</td>\n",
       "      <td>1.0</td>\n",
       "      <td>3.0</td>\n",
       "      <td>3.0</td>\n",
       "      <td>3.0</td>\n",
       "      <td>3.0</td>\n",
       "      <td>2.0</td>\n",
       "      <td>324900.0</td>\n",
       "      <td>https://www.realtor.com/realestateandhomes-det...</td>\n",
       "    </tr>\n",
       "    <tr>\n",
       "      <th>1</th>\n",
       "      <td>single_family</td>\n",
       "      <td>NaN</td>\n",
       "      <td>Nestled on 2.25 serene acres just 45 minutes f...</td>\n",
       "      <td>for_sale</td>\n",
       "      <td>1996.0</td>\n",
       "      <td>NaN</td>\n",
       "      <td>2018-10-31</td>\n",
       "      <td>98010.0</td>\n",
       "      <td>2.0</td>\n",
       "      <td>5.0</td>\n",
       "      <td>2.0</td>\n",
       "      <td>2.0</td>\n",
       "      <td>4.0</td>\n",
       "      <td>2.0</td>\n",
       "      <td>575000.0</td>\n",
       "      <td>https://www.realtor.com/realestateandhomes-det...</td>\n",
       "    </tr>\n",
       "    <tr>\n",
       "      <th>2</th>\n",
       "      <td>single_family</td>\n",
       "      <td>NaN</td>\n",
       "      <td>Secret Garden on Bonners Ferry's S Hill- Quain...</td>\n",
       "      <td>for_sale</td>\n",
       "      <td>1903.0</td>\n",
       "      <td>NaN</td>\n",
       "      <td>2015-08-14</td>\n",
       "      <td>6098.0</td>\n",
       "      <td>2.0</td>\n",
       "      <td>1.0</td>\n",
       "      <td>1.0</td>\n",
       "      <td>1.0</td>\n",
       "      <td>2.0</td>\n",
       "      <td>1.0</td>\n",
       "      <td>325000.0</td>\n",
       "      <td>https://www.realtor.com/realestateandhomes-det...</td>\n",
       "    </tr>\n",
       "    <tr>\n",
       "      <th>3</th>\n",
       "      <td>single_family</td>\n",
       "      <td>NaN</td>\n",
       "      <td>Alpine Model is available in 4 elevations; mod...</td>\n",
       "      <td>ready_to_build</td>\n",
       "      <td>NaN</td>\n",
       "      <td>NaN</td>\n",
       "      <td>NaN</td>\n",
       "      <td>NaN</td>\n",
       "      <td>1.0</td>\n",
       "      <td>NaN</td>\n",
       "      <td>2.0</td>\n",
       "      <td>2.0</td>\n",
       "      <td>4.0</td>\n",
       "      <td>2.0</td>\n",
       "      <td>475000.0</td>\n",
       "      <td>https://www.realtor.com/realestateandhomes-det...</td>\n",
       "    </tr>\n",
       "    <tr>\n",
       "      <th>4</th>\n",
       "      <td>single_family</td>\n",
       "      <td>NaN</td>\n",
       "      <td>Craftsman single level home with shop, guest a...</td>\n",
       "      <td>for_sale</td>\n",
       "      <td>2008.0</td>\n",
       "      <td>NaN</td>\n",
       "      <td>2003-10-02</td>\n",
       "      <td>101930.0</td>\n",
       "      <td>1.0</td>\n",
       "      <td>2.0</td>\n",
       "      <td>2.0</td>\n",
       "      <td>2.0</td>\n",
       "      <td>2.0</td>\n",
       "      <td>2.0</td>\n",
       "      <td>769000.0</td>\n",
       "      <td>https://www.realtor.com/realestateandhomes-det...</td>\n",
       "    </tr>\n",
       "  </tbody>\n",
       "</table>\n",
       "</div>"
      ],
      "text/plain": [
       "            type sub_type                                               text  \\\n",
       "0  single_family      NaN  Although the home is likely a tear-down due to...   \n",
       "1  single_family      NaN  Nestled on 2.25 serene acres just 45 minutes f...   \n",
       "2  single_family      NaN  Secret Garden on Bonners Ferry's S Hill- Quain...   \n",
       "3  single_family      NaN  Alpine Model is available in 4 elevations; mod...   \n",
       "4  single_family      NaN  Craftsman single level home with shop, guest a...   \n",
       "\n",
       "           status  year_built  year_renovated      soldOn  lot_sqft  stories  \\\n",
       "0        for_sale      1993.0             NaN         NaN   49223.0      1.0   \n",
       "1        for_sale      1996.0             NaN  2018-10-31   98010.0      2.0   \n",
       "2        for_sale      1903.0             NaN  2015-08-14    6098.0      2.0   \n",
       "3  ready_to_build         NaN             NaN         NaN       NaN      1.0   \n",
       "4        for_sale      2008.0             NaN  2003-10-02  101930.0      1.0   \n",
       "\n",
       "   baths  baths_full  baths_full_calc  beds  garage  listPrice  \\\n",
       "0    3.0         3.0              3.0   3.0     2.0   324900.0   \n",
       "1    5.0         2.0              2.0   4.0     2.0   575000.0   \n",
       "2    1.0         1.0              1.0   2.0     1.0   325000.0   \n",
       "3    NaN         2.0              2.0   4.0     2.0   475000.0   \n",
       "4    2.0         2.0              2.0   2.0     2.0   769000.0   \n",
       "\n",
       "                                                 url  \n",
       "0  https://www.realtor.com/realestateandhomes-det...  \n",
       "1  https://www.realtor.com/realestateandhomes-det...  \n",
       "2  https://www.realtor.com/realestateandhomes-det...  \n",
       "3  https://www.realtor.com/realestateandhomes-det...  \n",
       "4  https://www.realtor.com/realestateandhomes-det...  "
      ]
     },
     "execution_count": 662,
     "metadata": {},
     "output_type": "execute_result"
    }
   ],
   "source": [
    "df_id.head()"
   ]
  },
  {
   "cell_type": "code",
   "execution_count": 663,
   "id": "af6e5d1a",
   "metadata": {},
   "outputs": [
    {
     "data": {
      "text/plain": [
       "(6573, 16)"
      ]
     },
     "execution_count": 663,
     "metadata": {},
     "output_type": "execute_result"
    }
   ],
   "source": [
    "df_id.shape"
   ]
  },
  {
   "cell_type": "code",
   "execution_count": 664,
   "id": "218cccce",
   "metadata": {},
   "outputs": [
    {
     "data": {
      "text/plain": [
       "Index(['type', 'sub_type', 'text', 'status', 'year_built', 'year_renovated',\n",
       "       'soldOn', 'lot_sqft', 'stories', 'baths', 'baths_full',\n",
       "       'baths_full_calc', 'beds', 'garage', 'listPrice', 'url'],\n",
       "      dtype='object')"
      ]
     },
     "execution_count": 664,
     "metadata": {},
     "output_type": "execute_result"
    }
   ],
   "source": [
    "df_id.columns"
   ]
  },
  {
   "cell_type": "code",
   "execution_count": 665,
   "id": "1b10e1ae",
   "metadata": {},
   "outputs": [
    {
     "data": {
      "text/plain": [
       "type                  0\n",
       "sub_type           6365\n",
       "text                 31\n",
       "status                0\n",
       "year_built          917\n",
       "year_renovated     6573\n",
       "soldOn             3399\n",
       "lot_sqft            279\n",
       "stories            1314\n",
       "baths                86\n",
       "baths_full          736\n",
       "baths_full_calc     723\n",
       "beds                701\n",
       "garage             1603\n",
       "listPrice             1\n",
       "url                   0\n",
       "dtype: int64"
      ]
     },
     "execution_count": 665,
     "metadata": {},
     "output_type": "execute_result"
    }
   ],
   "source": [
    "df_id.isnull().sum()"
   ]
  },
  {
   "cell_type": "code",
   "execution_count": 666,
   "id": "6a6b8933",
   "metadata": {},
   "outputs": [
    {
     "data": {
      "text/html": [
       "<div>\n",
       "<style scoped>\n",
       "    .dataframe tbody tr th:only-of-type {\n",
       "        vertical-align: middle;\n",
       "    }\n",
       "\n",
       "    .dataframe tbody tr th {\n",
       "        vertical-align: top;\n",
       "    }\n",
       "\n",
       "    .dataframe thead th {\n",
       "        text-align: right;\n",
       "    }\n",
       "</style>\n",
       "<table border=\"1\" class=\"dataframe\">\n",
       "  <thead>\n",
       "    <tr style=\"text-align: right;\">\n",
       "      <th></th>\n",
       "      <th>type</th>\n",
       "      <th>sub_type</th>\n",
       "      <th>text</th>\n",
       "      <th>status</th>\n",
       "      <th>year_built</th>\n",
       "      <th>year_renovated</th>\n",
       "      <th>soldOn</th>\n",
       "      <th>lot_sqft</th>\n",
       "      <th>sqft</th>\n",
       "      <th>stories</th>\n",
       "      <th>baths</th>\n",
       "      <th>baths_full</th>\n",
       "      <th>baths_full_calc</th>\n",
       "      <th>beds</th>\n",
       "      <th>garage_max</th>\n",
       "      <th>listPrice</th>\n",
       "      <th>garage_min</th>\n",
       "      <th>garage_type</th>\n",
       "      <th>url</th>\n",
       "    </tr>\n",
       "  </thead>\n",
       "  <tbody>\n",
       "    <tr>\n",
       "      <th>0</th>\n",
       "      <td>single_family</td>\n",
       "      <td>NaN</td>\n",
       "      <td>Welcome to this one-owner, brick split-level h...</td>\n",
       "      <td>for_sale</td>\n",
       "      <td>1987.0</td>\n",
       "      <td>NaN</td>\n",
       "      <td>NaN</td>\n",
       "      <td>27007.0</td>\n",
       "      <td>2237.0</td>\n",
       "      <td>3.0</td>\n",
       "      <td>3.0</td>\n",
       "      <td>2.0</td>\n",
       "      <td>2.0</td>\n",
       "      <td>3.0</td>\n",
       "      <td>NaN</td>\n",
       "      <td>299900.0</td>\n",
       "      <td>NaN</td>\n",
       "      <td>NaN</td>\n",
       "      <td>https://www.realtor.com/realestateandhomes-det...</td>\n",
       "    </tr>\n",
       "    <tr>\n",
       "      <th>1</th>\n",
       "      <td>single_family</td>\n",
       "      <td>NaN</td>\n",
       "      <td>Nestled in the lovely English Forest neighborh...</td>\n",
       "      <td>for_sale</td>\n",
       "      <td>1970.0</td>\n",
       "      <td>NaN</td>\n",
       "      <td>2013-09-19</td>\n",
       "      <td>10890.0</td>\n",
       "      <td>2504.0</td>\n",
       "      <td>1.0</td>\n",
       "      <td>2.0</td>\n",
       "      <td>2.0</td>\n",
       "      <td>2.0</td>\n",
       "      <td>3.0</td>\n",
       "      <td>NaN</td>\n",
       "      <td>249900.0</td>\n",
       "      <td>NaN</td>\n",
       "      <td>NaN</td>\n",
       "      <td>https://www.realtor.com/realestateandhomes-det...</td>\n",
       "    </tr>\n",
       "    <tr>\n",
       "      <th>2</th>\n",
       "      <td>single_family</td>\n",
       "      <td>NaN</td>\n",
       "      <td>Welcome home to this beautifully updated 3-bed...</td>\n",
       "      <td>for_sale</td>\n",
       "      <td>1988.0</td>\n",
       "      <td>NaN</td>\n",
       "      <td>NaN</td>\n",
       "      <td>217800.0</td>\n",
       "      <td>2441.0</td>\n",
       "      <td>1.0</td>\n",
       "      <td>2.0</td>\n",
       "      <td>2.0</td>\n",
       "      <td>2.0</td>\n",
       "      <td>3.0</td>\n",
       "      <td>NaN</td>\n",
       "      <td>377000.0</td>\n",
       "      <td>NaN</td>\n",
       "      <td>NaN</td>\n",
       "      <td>https://www.realtor.com/realestateandhomes-det...</td>\n",
       "    </tr>\n",
       "    <tr>\n",
       "      <th>3</th>\n",
       "      <td>single_family</td>\n",
       "      <td>NaN</td>\n",
       "      <td>ESTATE AUCTION!!!! AUCTION!!!! AUCTION!!!! Cas...</td>\n",
       "      <td>for_sale</td>\n",
       "      <td>1978.0</td>\n",
       "      <td>NaN</td>\n",
       "      <td>NaN</td>\n",
       "      <td>479160.0</td>\n",
       "      <td>2425.0</td>\n",
       "      <td>2.0</td>\n",
       "      <td>5.0</td>\n",
       "      <td>4.0</td>\n",
       "      <td>4.0</td>\n",
       "      <td>3.0</td>\n",
       "      <td>NaN</td>\n",
       "      <td>350000.0</td>\n",
       "      <td>NaN</td>\n",
       "      <td>NaN</td>\n",
       "      <td>https://www.realtor.com/realestateandhomes-det...</td>\n",
       "    </tr>\n",
       "    <tr>\n",
       "      <th>4</th>\n",
       "      <td>single_family</td>\n",
       "      <td>NaN</td>\n",
       "      <td>One-of-a-kind artisan-style 3 bed, 3 bath home...</td>\n",
       "      <td>for_sale</td>\n",
       "      <td>2000.0</td>\n",
       "      <td>NaN</td>\n",
       "      <td>2023-08-28</td>\n",
       "      <td>78844.0</td>\n",
       "      <td>2208.0</td>\n",
       "      <td>1.0</td>\n",
       "      <td>3.0</td>\n",
       "      <td>3.0</td>\n",
       "      <td>3.0</td>\n",
       "      <td>3.0</td>\n",
       "      <td>NaN</td>\n",
       "      <td>349900.0</td>\n",
       "      <td>NaN</td>\n",
       "      <td>NaN</td>\n",
       "      <td>https://www.realtor.com/realestateandhomes-det...</td>\n",
       "    </tr>\n",
       "  </tbody>\n",
       "</table>\n",
       "</div>"
      ],
      "text/plain": [
       "            type sub_type                                               text  \\\n",
       "0  single_family      NaN  Welcome to this one-owner, brick split-level h...   \n",
       "1  single_family      NaN  Nestled in the lovely English Forest neighborh...   \n",
       "2  single_family      NaN  Welcome home to this beautifully updated 3-bed...   \n",
       "3  single_family      NaN  ESTATE AUCTION!!!! AUCTION!!!! AUCTION!!!! Cas...   \n",
       "4  single_family      NaN  One-of-a-kind artisan-style 3 bed, 3 bath home...   \n",
       "\n",
       "     status  year_built  year_renovated      soldOn  lot_sqft    sqft  \\\n",
       "0  for_sale      1987.0             NaN         NaN   27007.0  2237.0   \n",
       "1  for_sale      1970.0             NaN  2013-09-19   10890.0  2504.0   \n",
       "2  for_sale      1988.0             NaN         NaN  217800.0  2441.0   \n",
       "3  for_sale      1978.0             NaN         NaN  479160.0  2425.0   \n",
       "4  for_sale      2000.0             NaN  2023-08-28   78844.0  2208.0   \n",
       "\n",
       "   stories  baths  baths_full  baths_full_calc  beds  garage_max  listPrice  \\\n",
       "0      3.0    3.0         2.0              2.0   3.0         NaN   299900.0   \n",
       "1      1.0    2.0         2.0              2.0   3.0         NaN   249900.0   \n",
       "2      1.0    2.0         2.0              2.0   3.0         NaN   377000.0   \n",
       "3      2.0    5.0         4.0              4.0   3.0         NaN   350000.0   \n",
       "4      1.0    3.0         3.0              3.0   3.0         NaN   349900.0   \n",
       "\n",
       "   garage_min  garage_type                                                url  \n",
       "0         NaN          NaN  https://www.realtor.com/realestateandhomes-det...  \n",
       "1         NaN          NaN  https://www.realtor.com/realestateandhomes-det...  \n",
       "2         NaN          NaN  https://www.realtor.com/realestateandhomes-det...  \n",
       "3         NaN          NaN  https://www.realtor.com/realestateandhomes-det...  \n",
       "4         NaN          NaN  https://www.realtor.com/realestateandhomes-det...  "
      ]
     },
     "execution_count": 666,
     "metadata": {},
     "output_type": "execute_result"
    }
   ],
   "source": [
    "df_vi.head()"
   ]
  },
  {
   "cell_type": "code",
   "execution_count": 667,
   "id": "9891ceb4",
   "metadata": {},
   "outputs": [
    {
     "data": {
      "text/plain": [
       "(6307, 19)"
      ]
     },
     "execution_count": 667,
     "metadata": {},
     "output_type": "execute_result"
    }
   ],
   "source": [
    "df_vi.shape"
   ]
  },
  {
   "cell_type": "code",
   "execution_count": 668,
   "id": "4ea927d5",
   "metadata": {},
   "outputs": [
    {
     "data": {
      "text/plain": [
       "Index(['type', 'sub_type', 'text', 'status', 'year_built', 'year_renovated',\n",
       "       'soldOn', 'lot_sqft', 'sqft', 'stories', 'baths', 'baths_full',\n",
       "       'baths_full_calc', 'beds', 'garage_max', 'listPrice', 'garage_min',\n",
       "       'garage_type', 'url'],\n",
       "      dtype='object')"
      ]
     },
     "execution_count": 668,
     "metadata": {},
     "output_type": "execute_result"
    }
   ],
   "source": [
    "df_vi.columns"
   ]
  },
  {
   "cell_type": "code",
   "execution_count": 669,
   "id": "b5902b14",
   "metadata": {},
   "outputs": [
    {
     "data": {
      "text/plain": [
       "type                  2\n",
       "sub_type           5686\n",
       "text                 65\n",
       "status                0\n",
       "year_built          770\n",
       "year_renovated     6307\n",
       "soldOn             2440\n",
       "lot_sqft            674\n",
       "sqft                640\n",
       "stories            1161\n",
       "baths                86\n",
       "baths_full          643\n",
       "baths_full_calc     643\n",
       "beds                584\n",
       "garage_max         6307\n",
       "listPrice            18\n",
       "garage_min         6307\n",
       "garage_type        6307\n",
       "url                   0\n",
       "dtype: int64"
      ]
     },
     "execution_count": 669,
     "metadata": {},
     "output_type": "execute_result"
    }
   ],
   "source": [
    "df_vi.isnull().sum()"
   ]
  },
  {
   "cell_type": "markdown",
   "id": "e114120b",
   "metadata": {},
   "source": [
    "#### Data Preprocessing"
   ]
  },
  {
   "cell_type": "code",
   "execution_count": 670,
   "id": "c5a13c3a",
   "metadata": {},
   "outputs": [
    {
     "data": {
      "text/html": [
       "<div>\n",
       "<style scoped>\n",
       "    .dataframe tbody tr th:only-of-type {\n",
       "        vertical-align: middle;\n",
       "    }\n",
       "\n",
       "    .dataframe tbody tr th {\n",
       "        vertical-align: top;\n",
       "    }\n",
       "\n",
       "    .dataframe thead th {\n",
       "        text-align: right;\n",
       "    }\n",
       "</style>\n",
       "<table border=\"1\" class=\"dataframe\">\n",
       "  <thead>\n",
       "    <tr style=\"text-align: right;\">\n",
       "      <th></th>\n",
       "      <th>type</th>\n",
       "      <th>status</th>\n",
       "      <th>year_built</th>\n",
       "      <th>soldOn</th>\n",
       "      <th>sqft</th>\n",
       "      <th>stories</th>\n",
       "      <th>baths</th>\n",
       "      <th>beds</th>\n",
       "      <th>listPrice</th>\n",
       "      <th>state</th>\n",
       "    </tr>\n",
       "  </thead>\n",
       "  <tbody>\n",
       "    <tr>\n",
       "      <th>0</th>\n",
       "      <td>single_family</td>\n",
       "      <td>for_sale</td>\n",
       "      <td>1990.0</td>\n",
       "      <td>1990-11-01</td>\n",
       "      <td>2507.0</td>\n",
       "      <td>2.0</td>\n",
       "      <td>3.0</td>\n",
       "      <td>3.0</td>\n",
       "      <td>450000.0</td>\n",
       "      <td>Florida</td>\n",
       "    </tr>\n",
       "    <tr>\n",
       "      <th>1</th>\n",
       "      <td>single_family</td>\n",
       "      <td>for_sale</td>\n",
       "      <td>1978.0</td>\n",
       "      <td>2003-08-29</td>\n",
       "      <td>1145.0</td>\n",
       "      <td>1.0</td>\n",
       "      <td>2.0</td>\n",
       "      <td>3.0</td>\n",
       "      <td>235000.0</td>\n",
       "      <td>Florida</td>\n",
       "    </tr>\n",
       "    <tr>\n",
       "      <th>2</th>\n",
       "      <td>single_family</td>\n",
       "      <td>for_sale</td>\n",
       "      <td>2006.0</td>\n",
       "      <td>2017-06-21</td>\n",
       "      <td>1319.0</td>\n",
       "      <td>1.0</td>\n",
       "      <td>2.0</td>\n",
       "      <td>2.0</td>\n",
       "      <td>154900.0</td>\n",
       "      <td>Florida</td>\n",
       "    </tr>\n",
       "    <tr>\n",
       "      <th>3</th>\n",
       "      <td>single_family</td>\n",
       "      <td>for_sale</td>\n",
       "      <td>1962.0</td>\n",
       "      <td>2014-09-03</td>\n",
       "      <td>2633.0</td>\n",
       "      <td>1.0</td>\n",
       "      <td>2.0</td>\n",
       "      <td>4.0</td>\n",
       "      <td>200000.0</td>\n",
       "      <td>Florida</td>\n",
       "    </tr>\n",
       "    <tr>\n",
       "      <th>4</th>\n",
       "      <td>single_family</td>\n",
       "      <td>for_sale</td>\n",
       "      <td>1889.0</td>\n",
       "      <td>2016-09-16</td>\n",
       "      <td>4624.0</td>\n",
       "      <td>3.0</td>\n",
       "      <td>9.0</td>\n",
       "      <td>7.0</td>\n",
       "      <td>399000.0</td>\n",
       "      <td>Florida</td>\n",
       "    </tr>\n",
       "  </tbody>\n",
       "</table>\n",
       "</div>"
      ],
      "text/plain": [
       "            type    status  year_built      soldOn    sqft  stories  baths  \\\n",
       "0  single_family  for_sale      1990.0  1990-11-01  2507.0      2.0    3.0   \n",
       "1  single_family  for_sale      1978.0  2003-08-29  1145.0      1.0    2.0   \n",
       "2  single_family  for_sale      2006.0  2017-06-21  1319.0      1.0    2.0   \n",
       "3  single_family  for_sale      1962.0  2014-09-03  2633.0      1.0    2.0   \n",
       "4  single_family  for_sale      1889.0  2016-09-16  4624.0      3.0    9.0   \n",
       "\n",
       "   beds  listPrice    state  \n",
       "0   3.0   450000.0  Florida  \n",
       "1   3.0   235000.0  Florida  \n",
       "2   2.0   154900.0  Florida  \n",
       "3   4.0   200000.0  Florida  \n",
       "4   7.0   399000.0  Florida  "
      ]
     },
     "execution_count": 670,
     "metadata": {},
     "output_type": "execute_result"
    }
   ],
   "source": [
    "# Feature selection\n",
    "\n",
    "df_fl = df_fl[['type','status','year_built','soldOn','sqft','stories','baths','beds','listPrice']]\n",
    "#df_id = df_id[['type','status','year_built','soldOn','sqft','stories','baths','beds','listPrice']]\n",
    "df_vi = df_vi[['type','status','year_built','soldOn','sqft','stories','baths','beds','listPrice']]\n",
    "\n",
    "df_fl['state'] = 'Florida'\n",
    "df_id['state'] = 'Idaho'\n",
    "df_vi['state'] = 'Virginia'\n",
    "\n",
    "df_fl.head()"
   ]
  },
  {
   "cell_type": "code",
   "execution_count": 671,
   "id": "1f761f72",
   "metadata": {},
   "outputs": [
    {
     "data": {
      "text/html": [
       "<div>\n",
       "<style scoped>\n",
       "    .dataframe tbody tr th:only-of-type {\n",
       "        vertical-align: middle;\n",
       "    }\n",
       "\n",
       "    .dataframe tbody tr th {\n",
       "        vertical-align: top;\n",
       "    }\n",
       "\n",
       "    .dataframe thead th {\n",
       "        text-align: right;\n",
       "    }\n",
       "</style>\n",
       "<table border=\"1\" class=\"dataframe\">\n",
       "  <thead>\n",
       "    <tr style=\"text-align: right;\">\n",
       "      <th></th>\n",
       "      <th>type</th>\n",
       "      <th>status</th>\n",
       "      <th>year_built</th>\n",
       "      <th>soldOn</th>\n",
       "      <th>sqft</th>\n",
       "      <th>stories</th>\n",
       "      <th>baths</th>\n",
       "      <th>beds</th>\n",
       "      <th>listPrice</th>\n",
       "      <th>state</th>\n",
       "    </tr>\n",
       "  </thead>\n",
       "  <tbody>\n",
       "    <tr>\n",
       "      <th>0</th>\n",
       "      <td>single_family</td>\n",
       "      <td>for_sale</td>\n",
       "      <td>1987.0</td>\n",
       "      <td>NaN</td>\n",
       "      <td>2237.0</td>\n",
       "      <td>3.0</td>\n",
       "      <td>3.0</td>\n",
       "      <td>3.0</td>\n",
       "      <td>299900.0</td>\n",
       "      <td>Virginia</td>\n",
       "    </tr>\n",
       "    <tr>\n",
       "      <th>1</th>\n",
       "      <td>single_family</td>\n",
       "      <td>for_sale</td>\n",
       "      <td>1970.0</td>\n",
       "      <td>2013-09-19</td>\n",
       "      <td>2504.0</td>\n",
       "      <td>1.0</td>\n",
       "      <td>2.0</td>\n",
       "      <td>3.0</td>\n",
       "      <td>249900.0</td>\n",
       "      <td>Virginia</td>\n",
       "    </tr>\n",
       "    <tr>\n",
       "      <th>2</th>\n",
       "      <td>single_family</td>\n",
       "      <td>for_sale</td>\n",
       "      <td>1988.0</td>\n",
       "      <td>NaN</td>\n",
       "      <td>2441.0</td>\n",
       "      <td>1.0</td>\n",
       "      <td>2.0</td>\n",
       "      <td>3.0</td>\n",
       "      <td>377000.0</td>\n",
       "      <td>Virginia</td>\n",
       "    </tr>\n",
       "    <tr>\n",
       "      <th>3</th>\n",
       "      <td>single_family</td>\n",
       "      <td>for_sale</td>\n",
       "      <td>1978.0</td>\n",
       "      <td>NaN</td>\n",
       "      <td>2425.0</td>\n",
       "      <td>2.0</td>\n",
       "      <td>5.0</td>\n",
       "      <td>3.0</td>\n",
       "      <td>350000.0</td>\n",
       "      <td>Virginia</td>\n",
       "    </tr>\n",
       "    <tr>\n",
       "      <th>4</th>\n",
       "      <td>single_family</td>\n",
       "      <td>for_sale</td>\n",
       "      <td>2000.0</td>\n",
       "      <td>2023-08-28</td>\n",
       "      <td>2208.0</td>\n",
       "      <td>1.0</td>\n",
       "      <td>3.0</td>\n",
       "      <td>3.0</td>\n",
       "      <td>349900.0</td>\n",
       "      <td>Virginia</td>\n",
       "    </tr>\n",
       "  </tbody>\n",
       "</table>\n",
       "</div>"
      ],
      "text/plain": [
       "            type    status  year_built      soldOn    sqft  stories  baths  \\\n",
       "0  single_family  for_sale      1987.0         NaN  2237.0      3.0    3.0   \n",
       "1  single_family  for_sale      1970.0  2013-09-19  2504.0      1.0    2.0   \n",
       "2  single_family  for_sale      1988.0         NaN  2441.0      1.0    2.0   \n",
       "3  single_family  for_sale      1978.0         NaN  2425.0      2.0    5.0   \n",
       "4  single_family  for_sale      2000.0  2023-08-28  2208.0      1.0    3.0   \n",
       "\n",
       "   beds  listPrice     state  \n",
       "0   3.0   299900.0  Virginia  \n",
       "1   3.0   249900.0  Virginia  \n",
       "2   3.0   377000.0  Virginia  \n",
       "3   3.0   350000.0  Virginia  \n",
       "4   3.0   349900.0  Virginia  "
      ]
     },
     "execution_count": 671,
     "metadata": {},
     "output_type": "execute_result"
    }
   ],
   "source": [
    "df_vi.head()"
   ]
  },
  {
   "cell_type": "code",
   "execution_count": 672,
   "id": "36a3c141",
   "metadata": {},
   "outputs": [
    {
     "data": {
      "text/html": [
       "<div>\n",
       "<style scoped>\n",
       "    .dataframe tbody tr th:only-of-type {\n",
       "        vertical-align: middle;\n",
       "    }\n",
       "\n",
       "    .dataframe tbody tr th {\n",
       "        vertical-align: top;\n",
       "    }\n",
       "\n",
       "    .dataframe thead th {\n",
       "        text-align: right;\n",
       "    }\n",
       "</style>\n",
       "<table border=\"1\" class=\"dataframe\">\n",
       "  <thead>\n",
       "    <tr style=\"text-align: right;\">\n",
       "      <th></th>\n",
       "      <th>type</th>\n",
       "      <th>status</th>\n",
       "      <th>year_built</th>\n",
       "      <th>soldOn</th>\n",
       "      <th>sqft</th>\n",
       "      <th>stories</th>\n",
       "      <th>baths</th>\n",
       "      <th>beds</th>\n",
       "      <th>listPrice</th>\n",
       "      <th>state</th>\n",
       "    </tr>\n",
       "  </thead>\n",
       "  <tbody>\n",
       "    <tr>\n",
       "      <th>0</th>\n",
       "      <td>single_family</td>\n",
       "      <td>for_sale</td>\n",
       "      <td>1987.0</td>\n",
       "      <td>NaN</td>\n",
       "      <td>2237.0</td>\n",
       "      <td>3.0</td>\n",
       "      <td>3.0</td>\n",
       "      <td>3.0</td>\n",
       "      <td>299900.0</td>\n",
       "      <td>Virginia</td>\n",
       "    </tr>\n",
       "    <tr>\n",
       "      <th>1</th>\n",
       "      <td>single_family</td>\n",
       "      <td>for_sale</td>\n",
       "      <td>1970.0</td>\n",
       "      <td>2013-09-19</td>\n",
       "      <td>2504.0</td>\n",
       "      <td>1.0</td>\n",
       "      <td>2.0</td>\n",
       "      <td>3.0</td>\n",
       "      <td>249900.0</td>\n",
       "      <td>Virginia</td>\n",
       "    </tr>\n",
       "    <tr>\n",
       "      <th>2</th>\n",
       "      <td>single_family</td>\n",
       "      <td>for_sale</td>\n",
       "      <td>1988.0</td>\n",
       "      <td>NaN</td>\n",
       "      <td>2441.0</td>\n",
       "      <td>1.0</td>\n",
       "      <td>2.0</td>\n",
       "      <td>3.0</td>\n",
       "      <td>377000.0</td>\n",
       "      <td>Virginia</td>\n",
       "    </tr>\n",
       "    <tr>\n",
       "      <th>3</th>\n",
       "      <td>single_family</td>\n",
       "      <td>for_sale</td>\n",
       "      <td>1978.0</td>\n",
       "      <td>NaN</td>\n",
       "      <td>2425.0</td>\n",
       "      <td>2.0</td>\n",
       "      <td>5.0</td>\n",
       "      <td>3.0</td>\n",
       "      <td>350000.0</td>\n",
       "      <td>Virginia</td>\n",
       "    </tr>\n",
       "    <tr>\n",
       "      <th>4</th>\n",
       "      <td>single_family</td>\n",
       "      <td>for_sale</td>\n",
       "      <td>2000.0</td>\n",
       "      <td>2023-08-28</td>\n",
       "      <td>2208.0</td>\n",
       "      <td>1.0</td>\n",
       "      <td>3.0</td>\n",
       "      <td>3.0</td>\n",
       "      <td>349900.0</td>\n",
       "      <td>Virginia</td>\n",
       "    </tr>\n",
       "  </tbody>\n",
       "</table>\n",
       "</div>"
      ],
      "text/plain": [
       "            type    status  year_built      soldOn    sqft  stories  baths  \\\n",
       "0  single_family  for_sale      1987.0         NaN  2237.0      3.0    3.0   \n",
       "1  single_family  for_sale      1970.0  2013-09-19  2504.0      1.0    2.0   \n",
       "2  single_family  for_sale      1988.0         NaN  2441.0      1.0    2.0   \n",
       "3  single_family  for_sale      1978.0         NaN  2425.0      2.0    5.0   \n",
       "4  single_family  for_sale      2000.0  2023-08-28  2208.0      1.0    3.0   \n",
       "\n",
       "   beds  listPrice     state  \n",
       "0   3.0   299900.0  Virginia  \n",
       "1   3.0   249900.0  Virginia  \n",
       "2   3.0   377000.0  Virginia  \n",
       "3   3.0   350000.0  Virginia  \n",
       "4   3.0   349900.0  Virginia  "
      ]
     },
     "execution_count": 672,
     "metadata": {},
     "output_type": "execute_result"
    }
   ],
   "source": [
    "# concatinating 3 dataframes into one\n",
    "\n",
    "df = pd.concat([df_vi,df_fl],axis=0)\n",
    "df.head()"
   ]
  },
  {
   "cell_type": "code",
   "execution_count": 673,
   "id": "93e4a114",
   "metadata": {},
   "outputs": [
    {
     "data": {
      "text/plain": [
       "(12879, 10)"
      ]
     },
     "execution_count": 673,
     "metadata": {},
     "output_type": "execute_result"
    }
   ],
   "source": [
    "df.shape"
   ]
  },
  {
   "cell_type": "code",
   "execution_count": 674,
   "id": "056a6229",
   "metadata": {},
   "outputs": [
    {
     "data": {
      "text/plain": [
       "type           object\n",
       "status         object\n",
       "year_built    float64\n",
       "soldOn         object\n",
       "sqft          float64\n",
       "stories       float64\n",
       "baths         float64\n",
       "beds          float64\n",
       "listPrice     float64\n",
       "state          object\n",
       "dtype: object"
      ]
     },
     "execution_count": 674,
     "metadata": {},
     "output_type": "execute_result"
    }
   ],
   "source": [
    "df.dtypes"
   ]
  },
  {
   "cell_type": "code",
   "execution_count": 675,
   "id": "5b0dbd1c",
   "metadata": {},
   "outputs": [
    {
     "data": {
      "text/plain": [
       "type             2\n",
       "status           0\n",
       "year_built    1677\n",
       "soldOn        4594\n",
       "sqft          1122\n",
       "stories       2066\n",
       "baths          340\n",
       "beds          1019\n",
       "listPrice       27\n",
       "state            0\n",
       "dtype: int64"
      ]
     },
     "execution_count": 675,
     "metadata": {},
     "output_type": "execute_result"
    }
   ],
   "source": [
    "df.isnull().sum()"
   ]
  },
  {
   "cell_type": "code",
   "execution_count": 676,
   "id": "14d861cc",
   "metadata": {},
   "outputs": [
    {
     "data": {
      "text/plain": [
       "type            12\n",
       "status           2\n",
       "year_built     203\n",
       "soldOn        4379\n",
       "sqft          3741\n",
       "stories         19\n",
       "baths           20\n",
       "beds            18\n",
       "listPrice     2828\n",
       "state            2\n",
       "dtype: int64"
      ]
     },
     "execution_count": 676,
     "metadata": {},
     "output_type": "execute_result"
    }
   ],
   "source": [
    "df.nunique()"
   ]
  },
  {
   "cell_type": "code",
   "execution_count": 677,
   "id": "f6880ab0",
   "metadata": {},
   "outputs": [
    {
     "data": {
      "text/plain": [
       "type\n",
       "single_family                  10147\n",
       "land                            1018\n",
       "townhomes                        852\n",
       "condos                           665\n",
       "multi_family                      92\n",
       "farm                              50\n",
       "condo_townhome                    26\n",
       "townhouse                         12\n",
       "condo_townhome_rowhome_coop       12\n",
       "condo                              1\n",
       "duplex_triplex                     1\n",
       "apartment                          1\n",
       "Name: count, dtype: int64"
      ]
     },
     "execution_count": 677,
     "metadata": {},
     "output_type": "execute_result"
    }
   ],
   "source": [
    "df['type'].value_counts()"
   ]
  },
  {
   "cell_type": "code",
   "execution_count": 678,
   "id": "2661eca0",
   "metadata": {},
   "outputs": [
    {
     "data": {
      "text/plain": [
       "status\n",
       "for_sale          12564\n",
       "ready_to_build      315\n",
       "Name: count, dtype: int64"
      ]
     },
     "execution_count": 678,
     "metadata": {},
     "output_type": "execute_result"
    }
   ],
   "source": [
    "df['status'].value_counts()"
   ]
  },
  {
   "cell_type": "code",
   "execution_count": 679,
   "id": "c40f462b",
   "metadata": {},
   "outputs": [
    {
     "data": {
      "text/plain": [
       "(9873, 10)"
      ]
     },
     "execution_count": 679,
     "metadata": {},
     "output_type": "execute_result"
    }
   ],
   "source": [
    "#filtering the dataset\n",
    "\n",
    "df = df[df['status'] == 'for_sale']\n",
    "df = df[df['type'] == 'single_family']\n",
    "\n",
    "df.shape"
   ]
  },
  {
   "cell_type": "code",
   "execution_count": 680,
   "id": "9cb1ff06",
   "metadata": {},
   "outputs": [
    {
     "name": "stderr",
     "output_type": "stream",
     "text": [
      "C:\\Users\\ASUS\\AppData\\Local\\Temp\\ipykernel_16148\\1688696545.py:1: UserWarning: Parsing dates in %Y-%m-%d format when dayfirst=True was specified. Pass `dayfirst=False` or specify a format to silence this warning.\n",
      "  df['soldOn'] = pd.to_datetime(df['soldOn'],dayfirst=True)\n"
     ]
    },
    {
     "data": {
      "text/plain": [
       "type                  object\n",
       "status                object\n",
       "year_built           float64\n",
       "soldOn        datetime64[ns]\n",
       "sqft                 float64\n",
       "stories              float64\n",
       "baths                float64\n",
       "beds                 float64\n",
       "listPrice            float64\n",
       "state                 object\n",
       "dtype: object"
      ]
     },
     "execution_count": 680,
     "metadata": {},
     "output_type": "execute_result"
    }
   ],
   "source": [
    "df['soldOn'] = pd.to_datetime(df['soldOn'],dayfirst=True)\n",
    "df.dtypes"
   ]
  },
  {
   "cell_type": "code",
   "execution_count": 681,
   "id": "87a4cc27",
   "metadata": {},
   "outputs": [
    {
     "name": "stdout",
     "output_type": "stream",
     "text": [
      "Earliest Sold on date: 1954-10-08 00:00:00\n",
      "Latest Sold on date: 2025-05-28 00:00:00\n"
     ]
    }
   ],
   "source": [
    "print(f'Earliest Sold on date: {df['soldOn'].min()}')\n",
    "print(f'Latest Sold on date: {df['soldOn'].max()}')"
   ]
  },
  {
   "cell_type": "code",
   "execution_count": 682,
   "id": "7d0a75f2",
   "metadata": {},
   "outputs": [
    {
     "data": {
      "text/plain": [
       "(5834, 10)"
      ]
     },
     "execution_count": 682,
     "metadata": {},
     "output_type": "execute_result"
    }
   ],
   "source": [
    "df = df[(df['soldOn'] >= '2005-01-01') & (df['soldOn'] < '2025-05-30')]\n",
    "df.shape"
   ]
  },
  {
   "cell_type": "code",
   "execution_count": 683,
   "id": "721f0806",
   "metadata": {},
   "outputs": [
    {
     "data": {
      "text/plain": [
       "type            0\n",
       "status          0\n",
       "year_built     41\n",
       "soldOn          0\n",
       "sqft           25\n",
       "stories       350\n",
       "baths           2\n",
       "beds            0\n",
       "listPrice       1\n",
       "state           0\n",
       "dtype: int64"
      ]
     },
     "execution_count": 683,
     "metadata": {},
     "output_type": "execute_result"
    }
   ],
   "source": [
    "df.isnull().sum()"
   ]
  },
  {
   "cell_type": "code",
   "execution_count": 684,
   "id": "4fcc9913",
   "metadata": {},
   "outputs": [
    {
     "data": {
      "text/plain": [
       "(5409, 10)"
      ]
     },
     "execution_count": 684,
     "metadata": {},
     "output_type": "execute_result"
    }
   ],
   "source": [
    "# handling missing values and duplicales\n",
    "\n",
    "df = df.dropna()\n",
    "df = df.drop_duplicates()\n",
    "df.shape"
   ]
  },
  {
   "cell_type": "code",
   "execution_count": 685,
   "id": "c2309ca5",
   "metadata": {},
   "outputs": [
    {
     "data": {
      "text/html": [
       "<div>\n",
       "<style scoped>\n",
       "    .dataframe tbody tr th:only-of-type {\n",
       "        vertical-align: middle;\n",
       "    }\n",
       "\n",
       "    .dataframe tbody tr th {\n",
       "        vertical-align: top;\n",
       "    }\n",
       "\n",
       "    .dataframe thead th {\n",
       "        text-align: right;\n",
       "    }\n",
       "</style>\n",
       "<table border=\"1\" class=\"dataframe\">\n",
       "  <thead>\n",
       "    <tr style=\"text-align: right;\">\n",
       "      <th></th>\n",
       "      <th>year_built</th>\n",
       "      <th>soldOn</th>\n",
       "      <th>sqft</th>\n",
       "      <th>stories</th>\n",
       "      <th>baths</th>\n",
       "      <th>beds</th>\n",
       "      <th>listPrice</th>\n",
       "      <th>state</th>\n",
       "    </tr>\n",
       "  </thead>\n",
       "  <tbody>\n",
       "    <tr>\n",
       "      <th>1</th>\n",
       "      <td>1970.0</td>\n",
       "      <td>2013-09-19</td>\n",
       "      <td>2504.0</td>\n",
       "      <td>1.0</td>\n",
       "      <td>2.0</td>\n",
       "      <td>3.0</td>\n",
       "      <td>249900.0</td>\n",
       "      <td>Virginia</td>\n",
       "    </tr>\n",
       "    <tr>\n",
       "      <th>4</th>\n",
       "      <td>2000.0</td>\n",
       "      <td>2023-08-28</td>\n",
       "      <td>2208.0</td>\n",
       "      <td>1.0</td>\n",
       "      <td>3.0</td>\n",
       "      <td>3.0</td>\n",
       "      <td>349900.0</td>\n",
       "      <td>Virginia</td>\n",
       "    </tr>\n",
       "    <tr>\n",
       "      <th>7</th>\n",
       "      <td>1974.0</td>\n",
       "      <td>2018-09-07</td>\n",
       "      <td>1756.0</td>\n",
       "      <td>1.0</td>\n",
       "      <td>2.0</td>\n",
       "      <td>3.0</td>\n",
       "      <td>450000.0</td>\n",
       "      <td>Virginia</td>\n",
       "    </tr>\n",
       "    <tr>\n",
       "      <th>8</th>\n",
       "      <td>1830.0</td>\n",
       "      <td>2018-05-01</td>\n",
       "      <td>2388.0</td>\n",
       "      <td>2.0</td>\n",
       "      <td>3.0</td>\n",
       "      <td>3.0</td>\n",
       "      <td>995000.0</td>\n",
       "      <td>Virginia</td>\n",
       "    </tr>\n",
       "    <tr>\n",
       "      <th>16</th>\n",
       "      <td>1991.0</td>\n",
       "      <td>2012-09-18</td>\n",
       "      <td>1695.0</td>\n",
       "      <td>2.0</td>\n",
       "      <td>2.0</td>\n",
       "      <td>4.0</td>\n",
       "      <td>380000.0</td>\n",
       "      <td>Virginia</td>\n",
       "    </tr>\n",
       "  </tbody>\n",
       "</table>\n",
       "</div>"
      ],
      "text/plain": [
       "    year_built     soldOn    sqft  stories  baths  beds  listPrice     state\n",
       "1       1970.0 2013-09-19  2504.0      1.0    2.0   3.0   249900.0  Virginia\n",
       "4       2000.0 2023-08-28  2208.0      1.0    3.0   3.0   349900.0  Virginia\n",
       "7       1974.0 2018-09-07  1756.0      1.0    2.0   3.0   450000.0  Virginia\n",
       "8       1830.0 2018-05-01  2388.0      2.0    3.0   3.0   995000.0  Virginia\n",
       "16      1991.0 2012-09-18  1695.0      2.0    2.0   4.0   380000.0  Virginia"
      ]
     },
     "execution_count": 685,
     "metadata": {},
     "output_type": "execute_result"
    }
   ],
   "source": [
    "df = df.drop(['type','status'], axis=1) # dropping type and status columns as only one type of value was selected from both columns\n",
    "df.head()"
   ]
  },
  {
   "cell_type": "markdown",
   "id": "dc487884",
   "metadata": {},
   "source": [
    "#### Feature Engineering"
   ]
  },
  {
   "cell_type": "code",
   "execution_count": 686,
   "id": "6ef85102",
   "metadata": {},
   "outputs": [
    {
     "data": {
      "text/html": [
       "<div>\n",
       "<style scoped>\n",
       "    .dataframe tbody tr th:only-of-type {\n",
       "        vertical-align: middle;\n",
       "    }\n",
       "\n",
       "    .dataframe tbody tr th {\n",
       "        vertical-align: top;\n",
       "    }\n",
       "\n",
       "    .dataframe thead th {\n",
       "        text-align: right;\n",
       "    }\n",
       "</style>\n",
       "<table border=\"1\" class=\"dataframe\">\n",
       "  <thead>\n",
       "    <tr style=\"text-align: right;\">\n",
       "      <th></th>\n",
       "      <th>sqft</th>\n",
       "      <th>stories</th>\n",
       "      <th>baths</th>\n",
       "      <th>beds</th>\n",
       "      <th>listPrice</th>\n",
       "      <th>state</th>\n",
       "      <th>property_age</th>\n",
       "    </tr>\n",
       "  </thead>\n",
       "  <tbody>\n",
       "    <tr>\n",
       "      <th>1</th>\n",
       "      <td>2504.0</td>\n",
       "      <td>1.0</td>\n",
       "      <td>2.0</td>\n",
       "      <td>3.0</td>\n",
       "      <td>249900.0</td>\n",
       "      <td>Virginia</td>\n",
       "      <td>43.0</td>\n",
       "    </tr>\n",
       "    <tr>\n",
       "      <th>4</th>\n",
       "      <td>2208.0</td>\n",
       "      <td>1.0</td>\n",
       "      <td>3.0</td>\n",
       "      <td>3.0</td>\n",
       "      <td>349900.0</td>\n",
       "      <td>Virginia</td>\n",
       "      <td>23.0</td>\n",
       "    </tr>\n",
       "    <tr>\n",
       "      <th>7</th>\n",
       "      <td>1756.0</td>\n",
       "      <td>1.0</td>\n",
       "      <td>2.0</td>\n",
       "      <td>3.0</td>\n",
       "      <td>450000.0</td>\n",
       "      <td>Virginia</td>\n",
       "      <td>44.0</td>\n",
       "    </tr>\n",
       "    <tr>\n",
       "      <th>8</th>\n",
       "      <td>2388.0</td>\n",
       "      <td>2.0</td>\n",
       "      <td>3.0</td>\n",
       "      <td>3.0</td>\n",
       "      <td>995000.0</td>\n",
       "      <td>Virginia</td>\n",
       "      <td>188.0</td>\n",
       "    </tr>\n",
       "    <tr>\n",
       "      <th>16</th>\n",
       "      <td>1695.0</td>\n",
       "      <td>2.0</td>\n",
       "      <td>2.0</td>\n",
       "      <td>4.0</td>\n",
       "      <td>380000.0</td>\n",
       "      <td>Virginia</td>\n",
       "      <td>21.0</td>\n",
       "    </tr>\n",
       "  </tbody>\n",
       "</table>\n",
       "</div>"
      ],
      "text/plain": [
       "      sqft  stories  baths  beds  listPrice     state  property_age\n",
       "1   2504.0      1.0    2.0   3.0   249900.0  Virginia          43.0\n",
       "4   2208.0      1.0    3.0   3.0   349900.0  Virginia          23.0\n",
       "7   1756.0      1.0    2.0   3.0   450000.0  Virginia          44.0\n",
       "8   2388.0      2.0    3.0   3.0   995000.0  Virginia         188.0\n",
       "16  1695.0      2.0    2.0   4.0   380000.0  Virginia          21.0"
      ]
     },
     "execution_count": 686,
     "metadata": {},
     "output_type": "execute_result"
    }
   ],
   "source": [
    "# creating the feature of property_age\n",
    "\n",
    "df['year_sold'] = df['soldOn'].dt.year.astype('float') # extracting only the year from the soldOn feature\n",
    "df['property_age'] = df['year_sold'] - df['year_built']\n",
    "df = df.drop(['year_built','year_sold','soldOn'],axis=1)\n",
    "df.head()"
   ]
  },
  {
   "cell_type": "code",
   "execution_count": 687,
   "id": "efe6fce7",
   "metadata": {},
   "outputs": [
    {
     "data": {
      "text/html": [
       "<div>\n",
       "<style scoped>\n",
       "    .dataframe tbody tr th:only-of-type {\n",
       "        vertical-align: middle;\n",
       "    }\n",
       "\n",
       "    .dataframe tbody tr th {\n",
       "        vertical-align: top;\n",
       "    }\n",
       "\n",
       "    .dataframe thead th {\n",
       "        text-align: right;\n",
       "    }\n",
       "</style>\n",
       "<table border=\"1\" class=\"dataframe\">\n",
       "  <thead>\n",
       "    <tr style=\"text-align: right;\">\n",
       "      <th></th>\n",
       "      <th>sqft</th>\n",
       "      <th>stories</th>\n",
       "      <th>baths</th>\n",
       "      <th>beds</th>\n",
       "      <th>listPrice</th>\n",
       "      <th>state</th>\n",
       "      <th>property_age</th>\n",
       "      <th>price_per_sqft</th>\n",
       "    </tr>\n",
       "  </thead>\n",
       "  <tbody>\n",
       "    <tr>\n",
       "      <th>1</th>\n",
       "      <td>2504.0</td>\n",
       "      <td>1.0</td>\n",
       "      <td>2.0</td>\n",
       "      <td>3.0</td>\n",
       "      <td>249900.0</td>\n",
       "      <td>Virginia</td>\n",
       "      <td>43.0</td>\n",
       "      <td>99.800319</td>\n",
       "    </tr>\n",
       "    <tr>\n",
       "      <th>4</th>\n",
       "      <td>2208.0</td>\n",
       "      <td>1.0</td>\n",
       "      <td>3.0</td>\n",
       "      <td>3.0</td>\n",
       "      <td>349900.0</td>\n",
       "      <td>Virginia</td>\n",
       "      <td>23.0</td>\n",
       "      <td>158.469203</td>\n",
       "    </tr>\n",
       "    <tr>\n",
       "      <th>7</th>\n",
       "      <td>1756.0</td>\n",
       "      <td>1.0</td>\n",
       "      <td>2.0</td>\n",
       "      <td>3.0</td>\n",
       "      <td>450000.0</td>\n",
       "      <td>Virginia</td>\n",
       "      <td>44.0</td>\n",
       "      <td>256.264237</td>\n",
       "    </tr>\n",
       "    <tr>\n",
       "      <th>8</th>\n",
       "      <td>2388.0</td>\n",
       "      <td>2.0</td>\n",
       "      <td>3.0</td>\n",
       "      <td>3.0</td>\n",
       "      <td>995000.0</td>\n",
       "      <td>Virginia</td>\n",
       "      <td>188.0</td>\n",
       "      <td>416.666667</td>\n",
       "    </tr>\n",
       "    <tr>\n",
       "      <th>16</th>\n",
       "      <td>1695.0</td>\n",
       "      <td>2.0</td>\n",
       "      <td>2.0</td>\n",
       "      <td>4.0</td>\n",
       "      <td>380000.0</td>\n",
       "      <td>Virginia</td>\n",
       "      <td>21.0</td>\n",
       "      <td>224.188791</td>\n",
       "    </tr>\n",
       "  </tbody>\n",
       "</table>\n",
       "</div>"
      ],
      "text/plain": [
       "      sqft  stories  baths  beds  listPrice     state  property_age  \\\n",
       "1   2504.0      1.0    2.0   3.0   249900.0  Virginia          43.0   \n",
       "4   2208.0      1.0    3.0   3.0   349900.0  Virginia          23.0   \n",
       "7   1756.0      1.0    2.0   3.0   450000.0  Virginia          44.0   \n",
       "8   2388.0      2.0    3.0   3.0   995000.0  Virginia         188.0   \n",
       "16  1695.0      2.0    2.0   4.0   380000.0  Virginia          21.0   \n",
       "\n",
       "    price_per_sqft  \n",
       "1        99.800319  \n",
       "4       158.469203  \n",
       "7       256.264237  \n",
       "8       416.666667  \n",
       "16      224.188791  "
      ]
     },
     "execution_count": 687,
     "metadata": {},
     "output_type": "execute_result"
    }
   ],
   "source": [
    "# creating price_per_lotsqft feature\n",
    "\n",
    "df =df[df['sqft'] != 0]\n",
    "df['price_per_sqft'] = df['listPrice']/df['sqft']\n",
    "df.head()"
   ]
  },
  {
   "cell_type": "code",
   "execution_count": 688,
   "id": "f5b82c84",
   "metadata": {},
   "outputs": [],
   "source": [
    "# outlier removal based on price_per_sqft\n",
    "\n",
    "def price_per_sqft_outliers(df):\n",
    "    df_out = pd.DataFrame()\n",
    "    for key,subdf in df.groupby('state'):\n",
    "        mean = np.mean(subdf['price_per_sqft'])\n",
    "        std = np.std(subdf['price_per_sqft'])\n",
    "        reduced_df = subdf[(subdf['price_per_sqft'] <= (mean + 3*std)) & (subdf['price_per_sqft'] > (mean - 3*std))]\n",
    "        df_out = pd.concat([df_out,reduced_df],ignore_index=True)\n",
    "    return df_out"
   ]
  },
  {
   "cell_type": "code",
   "execution_count": 689,
   "id": "64bb764a",
   "metadata": {},
   "outputs": [
    {
     "data": {
      "text/plain": [
       "(5321, 8)"
      ]
     },
     "execution_count": 689,
     "metadata": {},
     "output_type": "execute_result"
    }
   ],
   "source": [
    "df = price_per_sqft_outliers(df)\n",
    "df.shape"
   ]
  },
  {
   "cell_type": "code",
   "execution_count": 690,
   "id": "c8d12e58",
   "metadata": {},
   "outputs": [
    {
     "data": {
      "text/plain": [
       "(4973, 8)"
      ]
     },
     "execution_count": 690,
     "metadata": {},
     "output_type": "execute_result"
    }
   ],
   "source": [
    "# outlier removal based on inter quartile range\n",
    "\n",
    "Q1 = df['price_per_sqft'].quantile(0.25)\n",
    "Q3 = df['price_per_sqft'].quantile(0.75)\n",
    "\n",
    "IQR = Q3 - Q1 # inter quartile range\n",
    "\n",
    "df = df[(df['price_per_sqft'] > (Q1- 1.5*IQR)) & (df['price_per_sqft'] <= (Q3 + 1.5*IQR))]\n",
    "df.shape"
   ]
  },
  {
   "cell_type": "code",
   "execution_count": 691,
   "id": "e6ac28f9",
   "metadata": {},
   "outputs": [
    {
     "data": {
      "text/plain": [
       "5.0"
      ]
     },
     "execution_count": 691,
     "metadata": {},
     "output_type": "execute_result"
    }
   ],
   "source": [
    "df['stories'].max()"
   ]
  },
  {
   "cell_type": "code",
   "execution_count": 692,
   "id": "0befbf56",
   "metadata": {},
   "outputs": [
    {
     "data": {
      "text/plain": [
       "(4973, 8)"
      ]
     },
     "execution_count": 692,
     "metadata": {},
     "output_type": "execute_result"
    }
   ],
   "source": [
    "# removing outliers based on unusual number of bathroom and bedrooms\n",
    "\n",
    "df = df[(df['sqft'] > (df['baths']+df['beds'])*64)]\n",
    "df.shape"
   ]
  },
  {
   "cell_type": "code",
   "execution_count": 693,
   "id": "9cbd85fd",
   "metadata": {},
   "outputs": [
    {
     "data": {
      "text/plain": [
       "(4973, 8)"
      ]
     },
     "execution_count": 693,
     "metadata": {},
     "output_type": "execute_result"
    }
   ],
   "source": [
    "df = df[~(df['baths'] > (df['beds'] +5))]\n",
    "df.shape"
   ]
  },
  {
   "cell_type": "code",
   "execution_count": 694,
   "id": "92a0b56e",
   "metadata": {},
   "outputs": [
    {
     "data": {
      "text/html": [
       "<div>\n",
       "<style scoped>\n",
       "    .dataframe tbody tr th:only-of-type {\n",
       "        vertical-align: middle;\n",
       "    }\n",
       "\n",
       "    .dataframe tbody tr th {\n",
       "        vertical-align: top;\n",
       "    }\n",
       "\n",
       "    .dataframe thead th {\n",
       "        text-align: right;\n",
       "    }\n",
       "</style>\n",
       "<table border=\"1\" class=\"dataframe\">\n",
       "  <thead>\n",
       "    <tr style=\"text-align: right;\">\n",
       "      <th></th>\n",
       "      <th>sqft</th>\n",
       "      <th>stories</th>\n",
       "      <th>baths</th>\n",
       "      <th>beds</th>\n",
       "      <th>listPrice</th>\n",
       "      <th>state</th>\n",
       "      <th>property_age</th>\n",
       "      <th>price_per_sqft</th>\n",
       "    </tr>\n",
       "  </thead>\n",
       "  <tbody>\n",
       "    <tr>\n",
       "      <th>0</th>\n",
       "      <td>1319.0</td>\n",
       "      <td>1.0</td>\n",
       "      <td>2.0</td>\n",
       "      <td>2.0</td>\n",
       "      <td>154900.0</td>\n",
       "      <td>Florida</td>\n",
       "      <td>11.0</td>\n",
       "      <td>117.437453</td>\n",
       "    </tr>\n",
       "    <tr>\n",
       "      <th>1</th>\n",
       "      <td>2633.0</td>\n",
       "      <td>1.0</td>\n",
       "      <td>2.0</td>\n",
       "      <td>4.0</td>\n",
       "      <td>200000.0</td>\n",
       "      <td>Florida</td>\n",
       "      <td>52.0</td>\n",
       "      <td>75.958982</td>\n",
       "    </tr>\n",
       "    <tr>\n",
       "      <th>2</th>\n",
       "      <td>4624.0</td>\n",
       "      <td>3.0</td>\n",
       "      <td>9.0</td>\n",
       "      <td>7.0</td>\n",
       "      <td>399000.0</td>\n",
       "      <td>Florida</td>\n",
       "      <td>127.0</td>\n",
       "      <td>86.288927</td>\n",
       "    </tr>\n",
       "    <tr>\n",
       "      <th>3</th>\n",
       "      <td>2531.0</td>\n",
       "      <td>1.0</td>\n",
       "      <td>4.0</td>\n",
       "      <td>4.0</td>\n",
       "      <td>572490.0</td>\n",
       "      <td>Florida</td>\n",
       "      <td>49.0</td>\n",
       "      <td>226.191229</td>\n",
       "    </tr>\n",
       "    <tr>\n",
       "      <th>4</th>\n",
       "      <td>1909.0</td>\n",
       "      <td>1.0</td>\n",
       "      <td>2.0</td>\n",
       "      <td>3.0</td>\n",
       "      <td>499900.0</td>\n",
       "      <td>Florida</td>\n",
       "      <td>23.0</td>\n",
       "      <td>261.864851</td>\n",
       "    </tr>\n",
       "  </tbody>\n",
       "</table>\n",
       "</div>"
      ],
      "text/plain": [
       "     sqft  stories  baths  beds  listPrice    state  property_age  \\\n",
       "0  1319.0      1.0    2.0   2.0   154900.0  Florida          11.0   \n",
       "1  2633.0      1.0    2.0   4.0   200000.0  Florida          52.0   \n",
       "2  4624.0      3.0    9.0   7.0   399000.0  Florida         127.0   \n",
       "3  2531.0      1.0    4.0   4.0   572490.0  Florida          49.0   \n",
       "4  1909.0      1.0    2.0   3.0   499900.0  Florida          23.0   \n",
       "\n",
       "   price_per_sqft  \n",
       "0      117.437453  \n",
       "1       75.958982  \n",
       "2       86.288927  \n",
       "3      226.191229  \n",
       "4      261.864851  "
      ]
     },
     "execution_count": 694,
     "metadata": {},
     "output_type": "execute_result"
    }
   ],
   "source": [
    "df.head()"
   ]
  },
  {
   "cell_type": "code",
   "execution_count": 695,
   "id": "cd1da862",
   "metadata": {},
   "outputs": [
    {
     "data": {
      "text/plain": [
       "state\n",
       "Florida     2715\n",
       "Virginia    2258\n",
       "Name: count, dtype: int64"
      ]
     },
     "execution_count": 695,
     "metadata": {},
     "output_type": "execute_result"
    }
   ],
   "source": [
    "df['state'].value_counts()"
   ]
  },
  {
   "cell_type": "markdown",
   "id": "f11003f7",
   "metadata": {},
   "source": [
    "#### Data Visualization"
   ]
  },
  {
   "cell_type": "code",
   "execution_count": 696,
   "id": "c2cd386b",
   "metadata": {},
   "outputs": [
    {
     "data": {
      "image/png": "[encoded data removed]",
      "text/plain": [
       "<Figure size 2000x500 with 1 Axes>"
      ]
     },
     "metadata": {},
     "output_type": "display_data"
    }
   ],
   "source": [
    "# visualizing sqft vs listprice\n",
    "\n",
    "# Filter by state\n",
    "df_vir = df[df['state'] == 'Virginia'].sort_values('sqft')\n",
    "df_flo = df[df['state'] == 'Florida'].sort_values('sqft')\n",
    "\n",
    "# Plotting\n",
    "plt.figure(figsize=(20,5))\n",
    "plt.plot(df_vir['sqft'], df_vir['listPrice'], label='Virginia', color='red', marker='o')\n",
    "plt.plot(df_flo['sqft'], df_flo['listPrice'], label='Florida', color='green', marker='x')\n",
    "\n",
    "plt.xlabel('Square Feet')\n",
    "plt.ylabel('List Price')\n",
    "plt.title('Price vs Square Feet')\n",
    "plt.legend()\n",
    "plt.grid(True)\n",
    "plt.show()"
   ]
  },
  {
   "cell_type": "code",
   "execution_count": 697,
   "id": "06ad2727",
   "metadata": {},
   "outputs": [
    {
     "data": {
      "image/png": "[encoded data removed]",
      "text/plain": [
       "<Figure size 2000x500 with 2 Axes>"
      ]
     },
     "metadata": {},
     "output_type": "display_data"
    }
   ],
   "source": [
    "# visualizing bedrooms vs listprice\n",
    "\n",
    "fig, axs = plt.subplots(1,2,figsize=(20,5))\n",
    "axs[0].bar(df_vir['beds'], df_vir['listPrice'], color='red')\n",
    "axs[0].set_xlabel('Bedrooms')\n",
    "axs[0].set_ylabel('List Price')\n",
    "axs[0].set_title('Price vs Bedrooms (Virginia)')\n",
    "axs[0].grid(True)\n",
    "\n",
    "\n",
    "axs[1].bar(df_flo['beds'], df_flo['listPrice'], color='green')\n",
    "axs[1].set_xlabel('Bedrooms')\n",
    "axs[1].set_ylabel('List Price')\n",
    "axs[1].set_title('Price vs Bedrooms (Florida)')\n",
    "axs[1].grid(True)\n"
   ]
  },
  {
   "cell_type": "code",
   "execution_count": 698,
   "id": "d6e4072b",
   "metadata": {},
   "outputs": [
    {
     "data": {
      "image/png": "[encoded data removed]",
      "text/plain": [
       "<Figure size 2000x500 with 2 Axes>"
      ]
     },
     "metadata": {},
     "output_type": "display_data"
    }
   ],
   "source": [
    "# visualizing bathrooms vs listprice\n",
    "\n",
    "fig, axs = plt.subplots(1,2,figsize=(20,5))\n",
    "axs[0].bar(df_vir['baths'], df_vir['listPrice'], color='yellow')\n",
    "axs[0].set_xlabel('Bathrooms')\n",
    "axs[0].set_ylabel('List Price')\n",
    "axs[0].set_title('Price vs Bathrooms (Virginia)')\n",
    "axs[0].grid(True)\n",
    "\n",
    "\n",
    "axs[1].bar(df_flo['baths'], df_flo['listPrice'], color='blue')\n",
    "axs[1].set_xlabel('Bathrooms')\n",
    "axs[1].set_ylabel('List Price')\n",
    "axs[1].set_title('Price vs Bathrooms (Florida)')\n",
    "axs[1].grid(True)\n"
   ]
  },
  {
   "cell_type": "code",
   "execution_count": 699,
   "id": "55e7dd99",
   "metadata": {},
   "outputs": [
    {
     "data": {
      "image/png": "[encoded data removed]",
      "text/plain": [
       "<Figure size 2000x500 with 2 Axes>"
      ]
     },
     "metadata": {},
     "output_type": "display_data"
    }
   ],
   "source": [
    "# visualizing stories vs listprice\n",
    "\n",
    "fig, axs = plt.subplots(1,2,figsize=(20,5))\n",
    "axs[0].bar(df_vir['stories'], df_vir['listPrice'], color='red')\n",
    "axs[0].set_xlabel('Stories')\n",
    "axs[0].set_ylabel('List Price')\n",
    "axs[0].set_title('Price vs Stories (Virginia)')\n",
    "axs[0].grid(True)\n",
    "\n",
    "\n",
    "axs[1].bar(df_flo['stories'], df_flo['listPrice'], color='green')\n",
    "axs[1].set_xlabel('Stories')\n",
    "axs[1].set_ylabel('List Price')\n",
    "axs[1].set_title('Price vs Stories (Florida)')\n",
    "axs[1].grid(True)\n"
   ]
  },
  {
   "cell_type": "code",
   "execution_count": 700,
   "id": "bd4cc5fa",
   "metadata": {},
   "outputs": [
    {
     "data": {
      "image/png": "[encoded data removed]",
      "text/plain": [
       "<Figure size 2000x500 with 2 Axes>"
      ]
     },
     "metadata": {},
     "output_type": "display_data"
    }
   ],
   "source": [
    "# visualizing property age vs listprice\n",
    "\n",
    "fig, axs = plt.subplots(1,2,figsize=(20,5))\n",
    "axs[0].bar(df_vir['property_age'], df_vir['listPrice'], color='yellow')\n",
    "axs[0].set_xlabel('Property Age')\n",
    "axs[0].set_ylabel('List Price')\n",
    "axs[0].set_title('Price vs Property Age(Virginia)')\n",
    "axs[0].grid(True)\n",
    "\n",
    "\n",
    "axs[1].bar(df_flo['property_age'], df_flo['listPrice'], color='blue')\n",
    "axs[1].set_xlabel('Property Age')\n",
    "axs[1].set_ylabel('List Price')\n",
    "axs[1].set_title('Price vs Property Age (Florida)')\n",
    "axs[1].grid(True)"
   ]
  },
  {
   "cell_type": "code",
   "execution_count": null,
   "id": "794622c5",
   "metadata": {},
   "outputs": [],
   "source": [
    "# dropping price per sqft"
   ]
  }
 ],
 "metadata": {
  "kernelspec": {
   "display_name": "Python 3",
   "language": "python",
   "name": "python3"
  },
  "language_info": {
   "codemirror_mode": {
    "name": "ipython",
    "version": 3
   },
   "file_extension": ".py",
   "mimetype": "text/x-python",
   "name": "python",
   "nbconvert_exporter": "python",
   "pygments_lexer": "ipython3",
   "version": "3.12.0"
  }
 },
 "nbformat": 4,
 "nbformat_minor": 5
}
