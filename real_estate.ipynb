{
 "cells": [
  {
   "cell_type": "markdown",
   "id": "be2b06bc",
   "metadata": {},
   "source": [
    "### Real Estate Price Prediction"
   ]
  },
  {
   "cell_type": "code",
   "execution_count": 15,
   "id": "3923f639",
   "metadata": {},
   "outputs": [],
   "source": [
    "# importing libraries\n",
    "\n",
    "import pandas as pd\n",
    "import numpy as np\n",
    "import matplotlib.pyplot as plt\n",
    "plt.style.use('dark_background')"
   ]
  },
  {
   "cell_type": "code",
   "execution_count": 16,
   "id": "32960c17",
   "metadata": {},
   "outputs": [],
   "source": [
    "# importing data\n",
    "\n",
    "df_fl = pd.read_csv('florida_homes.csv')\n",
    "df_id = pd.read_csv('idaho_homes.csv')\n",
    "df_vi = pd.read_csv('virginia homes.csv')"
   ]
  },
  {
   "cell_type": "markdown",
   "id": "598fc551",
   "metadata": {},
   "source": [
    "#### Data Exploration"
   ]
  },
  {
   "cell_type": "code",
   "execution_count": 17,
   "id": "0d294338",
   "metadata": {},
   "outputs": [
    {
     "data": {
      "text/html": [
       "<div>\n",
       "<style scoped>\n",
       "    .dataframe tbody tr th:only-of-type {\n",
       "        vertical-align: middle;\n",
       "    }\n",
       "\n",
       "    .dataframe tbody tr th {\n",
       "        vertical-align: top;\n",
       "    }\n",
       "\n",
       "    .dataframe thead th {\n",
       "        text-align: right;\n",
       "    }\n",
       "</style>\n",
       "<table border=\"1\" class=\"dataframe\">\n",
       "  <thead>\n",
       "    <tr style=\"text-align: right;\">\n",
       "      <th></th>\n",
       "      <th>type</th>\n",
       "      <th>sub_type</th>\n",
       "      <th>text</th>\n",
       "      <th>status</th>\n",
       "      <th>year_built</th>\n",
       "      <th>year_renovated</th>\n",
       "      <th>soldOn</th>\n",
       "      <th>lot_sqft</th>\n",
       "      <th>sqft</th>\n",
       "      <th>stories</th>\n",
       "      <th>baths</th>\n",
       "      <th>baths_full_calc</th>\n",
       "      <th>beds</th>\n",
       "      <th>garage</th>\n",
       "      <th>listPrice</th>\n",
       "      <th>url</th>\n",
       "    </tr>\n",
       "  </thead>\n",
       "  <tbody>\n",
       "    <tr>\n",
       "      <th>0</th>\n",
       "      <td>single_family</td>\n",
       "      <td>NaN</td>\n",
       "      <td>Charming Brick Home in Sought-After Wedgefield...</td>\n",
       "      <td>for_sale</td>\n",
       "      <td>1990.0</td>\n",
       "      <td>NaN</td>\n",
       "      <td>1990-11-01</td>\n",
       "      <td>10454.0</td>\n",
       "      <td>2507.0</td>\n",
       "      <td>2.0</td>\n",
       "      <td>3.0</td>\n",
       "      <td>2.0</td>\n",
       "      <td>3.0</td>\n",
       "      <td>2.0</td>\n",
       "      <td>450000.0</td>\n",
       "      <td>https://www.realtor.com/realestateandhomes-det...</td>\n",
       "    </tr>\n",
       "    <tr>\n",
       "      <th>1</th>\n",
       "      <td>single_family</td>\n",
       "      <td>NaN</td>\n",
       "      <td>Welcome to this beautifully refreshed 3-bedroo...</td>\n",
       "      <td>for_sale</td>\n",
       "      <td>1978.0</td>\n",
       "      <td>NaN</td>\n",
       "      <td>2003-08-29</td>\n",
       "      <td>87120.0</td>\n",
       "      <td>1145.0</td>\n",
       "      <td>1.0</td>\n",
       "      <td>2.0</td>\n",
       "      <td>2.0</td>\n",
       "      <td>3.0</td>\n",
       "      <td>NaN</td>\n",
       "      <td>235000.0</td>\n",
       "      <td>https://www.realtor.com/realestateandhomes-det...</td>\n",
       "    </tr>\n",
       "    <tr>\n",
       "      <th>2</th>\n",
       "      <td>single_family</td>\n",
       "      <td>NaN</td>\n",
       "      <td>Charming home is situated in the highly sought...</td>\n",
       "      <td>for_sale</td>\n",
       "      <td>2006.0</td>\n",
       "      <td>NaN</td>\n",
       "      <td>2017-06-21</td>\n",
       "      <td>7405.0</td>\n",
       "      <td>1319.0</td>\n",
       "      <td>1.0</td>\n",
       "      <td>2.0</td>\n",
       "      <td>2.0</td>\n",
       "      <td>2.0</td>\n",
       "      <td>1.0</td>\n",
       "      <td>154900.0</td>\n",
       "      <td>https://www.realtor.com/realestateandhomes-det...</td>\n",
       "    </tr>\n",
       "    <tr>\n",
       "      <th>3</th>\n",
       "      <td>single_family</td>\n",
       "      <td>NaN</td>\n",
       "      <td>Foreclosure Auction Ends June 24, 2025 at 11:0...</td>\n",
       "      <td>for_sale</td>\n",
       "      <td>1962.0</td>\n",
       "      <td>NaN</td>\n",
       "      <td>2014-09-03</td>\n",
       "      <td>NaN</td>\n",
       "      <td>2633.0</td>\n",
       "      <td>1.0</td>\n",
       "      <td>2.0</td>\n",
       "      <td>2.0</td>\n",
       "      <td>4.0</td>\n",
       "      <td>2.0</td>\n",
       "      <td>200000.0</td>\n",
       "      <td>https://www.realtor.com/realestateandhomes-det...</td>\n",
       "    </tr>\n",
       "    <tr>\n",
       "      <th>4</th>\n",
       "      <td>single_family</td>\n",
       "      <td>NaN</td>\n",
       "      <td>Nestled on 2 acres in the heart of San Mateo, ...</td>\n",
       "      <td>for_sale</td>\n",
       "      <td>1889.0</td>\n",
       "      <td>NaN</td>\n",
       "      <td>2016-09-16</td>\n",
       "      <td>87120.0</td>\n",
       "      <td>4624.0</td>\n",
       "      <td>3.0</td>\n",
       "      <td>9.0</td>\n",
       "      <td>6.0</td>\n",
       "      <td>7.0</td>\n",
       "      <td>2.0</td>\n",
       "      <td>399000.0</td>\n",
       "      <td>https://www.realtor.com/realestateandhomes-det...</td>\n",
       "    </tr>\n",
       "  </tbody>\n",
       "</table>\n",
       "</div>"
      ],
      "text/plain": [
       "            type sub_type                                               text  \\\n",
       "0  single_family      NaN  Charming Brick Home in Sought-After Wedgefield...   \n",
       "1  single_family      NaN  Welcome to this beautifully refreshed 3-bedroo...   \n",
       "2  single_family      NaN  Charming home is situated in the highly sought...   \n",
       "3  single_family      NaN  Foreclosure Auction Ends June 24, 2025 at 11:0...   \n",
       "4  single_family      NaN  Nestled on 2 acres in the heart of San Mateo, ...   \n",
       "\n",
       "     status  year_built  year_renovated      soldOn  lot_sqft    sqft  \\\n",
       "0  for_sale      1990.0             NaN  1990-11-01   10454.0  2507.0   \n",
       "1  for_sale      1978.0             NaN  2003-08-29   87120.0  1145.0   \n",
       "2  for_sale      2006.0             NaN  2017-06-21    7405.0  1319.0   \n",
       "3  for_sale      1962.0             NaN  2014-09-03       NaN  2633.0   \n",
       "4  for_sale      1889.0             NaN  2016-09-16   87120.0  4624.0   \n",
       "\n",
       "   stories  baths  baths_full_calc  beds  garage  listPrice  \\\n",
       "0      2.0    3.0              2.0   3.0     2.0   450000.0   \n",
       "1      1.0    2.0              2.0   3.0     NaN   235000.0   \n",
       "2      1.0    2.0              2.0   2.0     1.0   154900.0   \n",
       "3      1.0    2.0              2.0   4.0     2.0   200000.0   \n",
       "4      3.0    9.0              6.0   7.0     2.0   399000.0   \n",
       "\n",
       "                                                 url  \n",
       "0  https://www.realtor.com/realestateandhomes-det...  \n",
       "1  https://www.realtor.com/realestateandhomes-det...  \n",
       "2  https://www.realtor.com/realestateandhomes-det...  \n",
       "3  https://www.realtor.com/realestateandhomes-det...  \n",
       "4  https://www.realtor.com/realestateandhomes-det...  "
      ]
     },
     "execution_count": 17,
     "metadata": {},
     "output_type": "execute_result"
    }
   ],
   "source": [
    "df_fl.head()"
   ]
  },
  {
   "cell_type": "code",
   "execution_count": 18,
   "id": "a9aa1199",
   "metadata": {},
   "outputs": [
    {
     "data": {
      "text/plain": [
       "(6572, 16)"
      ]
     },
     "execution_count": 18,
     "metadata": {},
     "output_type": "execute_result"
    }
   ],
   "source": [
    "df_fl.shape"
   ]
  },
  {
   "cell_type": "code",
   "execution_count": 19,
   "id": "e2d86fe2",
   "metadata": {},
   "outputs": [
    {
     "data": {
      "text/plain": [
       "Index(['type', 'sub_type', 'text', 'status', 'year_built', 'year_renovated',\n",
       "       'soldOn', 'lot_sqft', 'sqft', 'stories', 'baths', 'baths_full_calc',\n",
       "       'beds', 'garage', 'listPrice', 'url'],\n",
       "      dtype='object')"
      ]
     },
     "execution_count": 19,
     "metadata": {},
     "output_type": "execute_result"
    }
   ],
   "source": [
    "df_fl.columns"
   ]
  },
  {
   "cell_type": "code",
   "execution_count": 20,
   "id": "22391148",
   "metadata": {},
   "outputs": [
    {
     "data": {
      "text/plain": [
       "type                  0\n",
       "sub_type           5713\n",
       "text                 14\n",
       "status                0\n",
       "year_built          907\n",
       "year_renovated     6572\n",
       "soldOn             2154\n",
       "lot_sqft           1189\n",
       "sqft                482\n",
       "stories             905\n",
       "baths               254\n",
       "baths_full_calc     440\n",
       "beds                435\n",
       "garage             1569\n",
       "listPrice             9\n",
       "url                   0\n",
       "dtype: int64"
      ]
     },
     "execution_count": 20,
     "metadata": {},
     "output_type": "execute_result"
    }
   ],
   "source": [
    "df_fl.isnull().sum()"
   ]
  },
  {
   "cell_type": "code",
   "execution_count": 21,
   "id": "625569de",
   "metadata": {},
   "outputs": [
    {
     "data": {
      "text/html": [
       "<div>\n",
       "<style scoped>\n",
       "    .dataframe tbody tr th:only-of-type {\n",
       "        vertical-align: middle;\n",
       "    }\n",
       "\n",
       "    .dataframe tbody tr th {\n",
       "        vertical-align: top;\n",
       "    }\n",
       "\n",
       "    .dataframe thead th {\n",
       "        text-align: right;\n",
       "    }\n",
       "</style>\n",
       "<table border=\"1\" class=\"dataframe\">\n",
       "  <thead>\n",
       "    <tr style=\"text-align: right;\">\n",
       "      <th></th>\n",
       "      <th>type</th>\n",
       "      <th>sub_type</th>\n",
       "      <th>text</th>\n",
       "      <th>status</th>\n",
       "      <th>year_built</th>\n",
       "      <th>year_renovated</th>\n",
       "      <th>soldOn</th>\n",
       "      <th>lot_sqft</th>\n",
       "      <th>stories</th>\n",
       "      <th>baths</th>\n",
       "      <th>baths_full</th>\n",
       "      <th>baths_full_calc</th>\n",
       "      <th>beds</th>\n",
       "      <th>garage</th>\n",
       "      <th>listPrice</th>\n",
       "      <th>url</th>\n",
       "    </tr>\n",
       "  </thead>\n",
       "  <tbody>\n",
       "    <tr>\n",
       "      <th>0</th>\n",
       "      <td>single_family</td>\n",
       "      <td>NaN</td>\n",
       "      <td>Although the home is likely a tear-down due to...</td>\n",
       "      <td>for_sale</td>\n",
       "      <td>1993.0</td>\n",
       "      <td>NaN</td>\n",
       "      <td>NaN</td>\n",
       "      <td>49223.0</td>\n",
       "      <td>1.0</td>\n",
       "      <td>3.0</td>\n",
       "      <td>3.0</td>\n",
       "      <td>3.0</td>\n",
       "      <td>3.0</td>\n",
       "      <td>2.0</td>\n",
       "      <td>324900.0</td>\n",
       "      <td>https://www.realtor.com/realestateandhomes-det...</td>\n",
       "    </tr>\n",
       "    <tr>\n",
       "      <th>1</th>\n",
       "      <td>single_family</td>\n",
       "      <td>NaN</td>\n",
       "      <td>Nestled on 2.25 serene acres just 45 minutes f...</td>\n",
       "      <td>for_sale</td>\n",
       "      <td>1996.0</td>\n",
       "      <td>NaN</td>\n",
       "      <td>2018-10-31</td>\n",
       "      <td>98010.0</td>\n",
       "      <td>2.0</td>\n",
       "      <td>5.0</td>\n",
       "      <td>2.0</td>\n",
       "      <td>2.0</td>\n",
       "      <td>4.0</td>\n",
       "      <td>2.0</td>\n",
       "      <td>575000.0</td>\n",
       "      <td>https://www.realtor.com/realestateandhomes-det...</td>\n",
       "    </tr>\n",
       "    <tr>\n",
       "      <th>2</th>\n",
       "      <td>single_family</td>\n",
       "      <td>NaN</td>\n",
       "      <td>Secret Garden on Bonners Ferry's S Hill- Quain...</td>\n",
       "      <td>for_sale</td>\n",
       "      <td>1903.0</td>\n",
       "      <td>NaN</td>\n",
       "      <td>2015-08-14</td>\n",
       "      <td>6098.0</td>\n",
       "      <td>2.0</td>\n",
       "      <td>1.0</td>\n",
       "      <td>1.0</td>\n",
       "      <td>1.0</td>\n",
       "      <td>2.0</td>\n",
       "      <td>1.0</td>\n",
       "      <td>325000.0</td>\n",
       "      <td>https://www.realtor.com/realestateandhomes-det...</td>\n",
       "    </tr>\n",
       "    <tr>\n",
       "      <th>3</th>\n",
       "      <td>single_family</td>\n",
       "      <td>NaN</td>\n",
       "      <td>Alpine Model is available in 4 elevations; mod...</td>\n",
       "      <td>ready_to_build</td>\n",
       "      <td>NaN</td>\n",
       "      <td>NaN</td>\n",
       "      <td>NaN</td>\n",
       "      <td>NaN</td>\n",
       "      <td>1.0</td>\n",
       "      <td>NaN</td>\n",
       "      <td>2.0</td>\n",
       "      <td>2.0</td>\n",
       "      <td>4.0</td>\n",
       "      <td>2.0</td>\n",
       "      <td>475000.0</td>\n",
       "      <td>https://www.realtor.com/realestateandhomes-det...</td>\n",
       "    </tr>\n",
       "    <tr>\n",
       "      <th>4</th>\n",
       "      <td>single_family</td>\n",
       "      <td>NaN</td>\n",
       "      <td>Craftsman single level home with shop, guest a...</td>\n",
       "      <td>for_sale</td>\n",
       "      <td>2008.0</td>\n",
       "      <td>NaN</td>\n",
       "      <td>2003-10-02</td>\n",
       "      <td>101930.0</td>\n",
       "      <td>1.0</td>\n",
       "      <td>2.0</td>\n",
       "      <td>2.0</td>\n",
       "      <td>2.0</td>\n",
       "      <td>2.0</td>\n",
       "      <td>2.0</td>\n",
       "      <td>769000.0</td>\n",
       "      <td>https://www.realtor.com/realestateandhomes-det...</td>\n",
       "    </tr>\n",
       "  </tbody>\n",
       "</table>\n",
       "</div>"
      ],
      "text/plain": [
       "            type sub_type                                               text  \\\n",
       "0  single_family      NaN  Although the home is likely a tear-down due to...   \n",
       "1  single_family      NaN  Nestled on 2.25 serene acres just 45 minutes f...   \n",
       "2  single_family      NaN  Secret Garden on Bonners Ferry's S Hill- Quain...   \n",
       "3  single_family      NaN  Alpine Model is available in 4 elevations; mod...   \n",
       "4  single_family      NaN  Craftsman single level home with shop, guest a...   \n",
       "\n",
       "           status  year_built  year_renovated      soldOn  lot_sqft  stories  \\\n",
       "0        for_sale      1993.0             NaN         NaN   49223.0      1.0   \n",
       "1        for_sale      1996.0             NaN  2018-10-31   98010.0      2.0   \n",
       "2        for_sale      1903.0             NaN  2015-08-14    6098.0      2.0   \n",
       "3  ready_to_build         NaN             NaN         NaN       NaN      1.0   \n",
       "4        for_sale      2008.0             NaN  2003-10-02  101930.0      1.0   \n",
       "\n",
       "   baths  baths_full  baths_full_calc  beds  garage  listPrice  \\\n",
       "0    3.0         3.0              3.0   3.0     2.0   324900.0   \n",
       "1    5.0         2.0              2.0   4.0     2.0   575000.0   \n",
       "2    1.0         1.0              1.0   2.0     1.0   325000.0   \n",
       "3    NaN         2.0              2.0   4.0     2.0   475000.0   \n",
       "4    2.0         2.0              2.0   2.0     2.0   769000.0   \n",
       "\n",
       "                                                 url  \n",
       "0  https://www.realtor.com/realestateandhomes-det...  \n",
       "1  https://www.realtor.com/realestateandhomes-det...  \n",
       "2  https://www.realtor.com/realestateandhomes-det...  \n",
       "3  https://www.realtor.com/realestateandhomes-det...  \n",
       "4  https://www.realtor.com/realestateandhomes-det...  "
      ]
     },
     "execution_count": 21,
     "metadata": {},
     "output_type": "execute_result"
    }
   ],
   "source": [
    "df_id.head()"
   ]
  },
  {
   "cell_type": "code",
   "execution_count": 22,
   "id": "af6e5d1a",
   "metadata": {},
   "outputs": [
    {
     "data": {
      "text/plain": [
       "(6573, 16)"
      ]
     },
     "execution_count": 22,
     "metadata": {},
     "output_type": "execute_result"
    }
   ],
   "source": [
    "df_id.shape"
   ]
  },
  {
   "cell_type": "code",
   "execution_count": 23,
   "id": "218cccce",
   "metadata": {},
   "outputs": [
    {
     "data": {
      "text/plain": [
       "Index(['type', 'sub_type', 'text', 'status', 'year_built', 'year_renovated',\n",
       "       'soldOn', 'lot_sqft', 'stories', 'baths', 'baths_full',\n",
       "       'baths_full_calc', 'beds', 'garage', 'listPrice', 'url'],\n",
       "      dtype='object')"
      ]
     },
     "execution_count": 23,
     "metadata": {},
     "output_type": "execute_result"
    }
   ],
   "source": [
    "df_id.columns"
   ]
  },
  {
   "cell_type": "code",
   "execution_count": 24,
   "id": "1b10e1ae",
   "metadata": {},
   "outputs": [
    {
     "data": {
      "text/plain": [
       "type                  0\n",
       "sub_type           6365\n",
       "text                 31\n",
       "status                0\n",
       "year_built          917\n",
       "year_renovated     6573\n",
       "soldOn             3399\n",
       "lot_sqft            279\n",
       "stories            1314\n",
       "baths                86\n",
       "baths_full          736\n",
       "baths_full_calc     723\n",
       "beds                701\n",
       "garage             1603\n",
       "listPrice             1\n",
       "url                   0\n",
       "dtype: int64"
      ]
     },
     "execution_count": 24,
     "metadata": {},
     "output_type": "execute_result"
    }
   ],
   "source": [
    "df_id.isnull().sum()"
   ]
  },
  {
   "cell_type": "code",
   "execution_count": 25,
   "id": "6a6b8933",
   "metadata": {},
   "outputs": [
    {
     "data": {
      "text/html": [
       "<div>\n",
       "<style scoped>\n",
       "    .dataframe tbody tr th:only-of-type {\n",
       "        vertical-align: middle;\n",
       "    }\n",
       "\n",
       "    .dataframe tbody tr th {\n",
       "        vertical-align: top;\n",
       "    }\n",
       "\n",
       "    .dataframe thead th {\n",
       "        text-align: right;\n",
       "    }\n",
       "</style>\n",
       "<table border=\"1\" class=\"dataframe\">\n",
       "  <thead>\n",
       "    <tr style=\"text-align: right;\">\n",
       "      <th></th>\n",
       "      <th>type</th>\n",
       "      <th>sub_type</th>\n",
       "      <th>text</th>\n",
       "      <th>status</th>\n",
       "      <th>year_built</th>\n",
       "      <th>year_renovated</th>\n",
       "      <th>soldOn</th>\n",
       "      <th>lot_sqft</th>\n",
       "      <th>sqft</th>\n",
       "      <th>stories</th>\n",
       "      <th>baths</th>\n",
       "      <th>baths_full</th>\n",
       "      <th>baths_full_calc</th>\n",
       "      <th>beds</th>\n",
       "      <th>garage_max</th>\n",
       "      <th>listPrice</th>\n",
       "      <th>garage_min</th>\n",
       "      <th>garage_type</th>\n",
       "      <th>url</th>\n",
       "    </tr>\n",
       "  </thead>\n",
       "  <tbody>\n",
       "    <tr>\n",
       "      <th>0</th>\n",
       "      <td>single_family</td>\n",
       "      <td>NaN</td>\n",
       "      <td>Welcome to this one-owner, brick split-level h...</td>\n",
       "      <td>for_sale</td>\n",
       "      <td>1987.0</td>\n",
       "      <td>NaN</td>\n",
       "      <td>NaN</td>\n",
       "      <td>27007.0</td>\n",
       "      <td>2237.0</td>\n",
       "      <td>3.0</td>\n",
       "      <td>3.0</td>\n",
       "      <td>2.0</td>\n",
       "      <td>2.0</td>\n",
       "      <td>3.0</td>\n",
       "      <td>NaN</td>\n",
       "      <td>299900.0</td>\n",
       "      <td>NaN</td>\n",
       "      <td>NaN</td>\n",
       "      <td>https://www.realtor.com/realestateandhomes-det...</td>\n",
       "    </tr>\n",
       "    <tr>\n",
       "      <th>1</th>\n",
       "      <td>single_family</td>\n",
       "      <td>NaN</td>\n",
       "      <td>Nestled in the lovely English Forest neighborh...</td>\n",
       "      <td>for_sale</td>\n",
       "      <td>1970.0</td>\n",
       "      <td>NaN</td>\n",
       "      <td>2013-09-19</td>\n",
       "      <td>10890.0</td>\n",
       "      <td>2504.0</td>\n",
       "      <td>1.0</td>\n",
       "      <td>2.0</td>\n",
       "      <td>2.0</td>\n",
       "      <td>2.0</td>\n",
       "      <td>3.0</td>\n",
       "      <td>NaN</td>\n",
       "      <td>249900.0</td>\n",
       "      <td>NaN</td>\n",
       "      <td>NaN</td>\n",
       "      <td>https://www.realtor.com/realestateandhomes-det...</td>\n",
       "    </tr>\n",
       "    <tr>\n",
       "      <th>2</th>\n",
       "      <td>single_family</td>\n",
       "      <td>NaN</td>\n",
       "      <td>Welcome home to this beautifully updated 3-bed...</td>\n",
       "      <td>for_sale</td>\n",
       "      <td>1988.0</td>\n",
       "      <td>NaN</td>\n",
       "      <td>NaN</td>\n",
       "      <td>217800.0</td>\n",
       "      <td>2441.0</td>\n",
       "      <td>1.0</td>\n",
       "      <td>2.0</td>\n",
       "      <td>2.0</td>\n",
       "      <td>2.0</td>\n",
       "      <td>3.0</td>\n",
       "      <td>NaN</td>\n",
       "      <td>377000.0</td>\n",
       "      <td>NaN</td>\n",
       "      <td>NaN</td>\n",
       "      <td>https://www.realtor.com/realestateandhomes-det...</td>\n",
       "    </tr>\n",
       "    <tr>\n",
       "      <th>3</th>\n",
       "      <td>single_family</td>\n",
       "      <td>NaN</td>\n",
       "      <td>ESTATE AUCTION!!!! AUCTION!!!! AUCTION!!!! Cas...</td>\n",
       "      <td>for_sale</td>\n",
       "      <td>1978.0</td>\n",
       "      <td>NaN</td>\n",
       "      <td>NaN</td>\n",
       "      <td>479160.0</td>\n",
       "      <td>2425.0</td>\n",
       "      <td>2.0</td>\n",
       "      <td>5.0</td>\n",
       "      <td>4.0</td>\n",
       "      <td>4.0</td>\n",
       "      <td>3.0</td>\n",
       "      <td>NaN</td>\n",
       "      <td>350000.0</td>\n",
       "      <td>NaN</td>\n",
       "      <td>NaN</td>\n",
       "      <td>https://www.realtor.com/realestateandhomes-det...</td>\n",
       "    </tr>\n",
       "    <tr>\n",
       "      <th>4</th>\n",
       "      <td>single_family</td>\n",
       "      <td>NaN</td>\n",
       "      <td>One-of-a-kind artisan-style 3 bed, 3 bath home...</td>\n",
       "      <td>for_sale</td>\n",
       "      <td>2000.0</td>\n",
       "      <td>NaN</td>\n",
       "      <td>2023-08-28</td>\n",
       "      <td>78844.0</td>\n",
       "      <td>2208.0</td>\n",
       "      <td>1.0</td>\n",
       "      <td>3.0</td>\n",
       "      <td>3.0</td>\n",
       "      <td>3.0</td>\n",
       "      <td>3.0</td>\n",
       "      <td>NaN</td>\n",
       "      <td>349900.0</td>\n",
       "      <td>NaN</td>\n",
       "      <td>NaN</td>\n",
       "      <td>https://www.realtor.com/realestateandhomes-det...</td>\n",
       "    </tr>\n",
       "  </tbody>\n",
       "</table>\n",
       "</div>"
      ],
      "text/plain": [
       "            type sub_type                                               text  \\\n",
       "0  single_family      NaN  Welcome to this one-owner, brick split-level h...   \n",
       "1  single_family      NaN  Nestled in the lovely English Forest neighborh...   \n",
       "2  single_family      NaN  Welcome home to this beautifully updated 3-bed...   \n",
       "3  single_family      NaN  ESTATE AUCTION!!!! AUCTION!!!! AUCTION!!!! Cas...   \n",
       "4  single_family      NaN  One-of-a-kind artisan-style 3 bed, 3 bath home...   \n",
       "\n",
       "     status  year_built  year_renovated      soldOn  lot_sqft    sqft  \\\n",
       "0  for_sale      1987.0             NaN         NaN   27007.0  2237.0   \n",
       "1  for_sale      1970.0             NaN  2013-09-19   10890.0  2504.0   \n",
       "2  for_sale      1988.0             NaN         NaN  217800.0  2441.0   \n",
       "3  for_sale      1978.0             NaN         NaN  479160.0  2425.0   \n",
       "4  for_sale      2000.0             NaN  2023-08-28   78844.0  2208.0   \n",
       "\n",
       "   stories  baths  baths_full  baths_full_calc  beds  garage_max  listPrice  \\\n",
       "0      3.0    3.0         2.0              2.0   3.0         NaN   299900.0   \n",
       "1      1.0    2.0         2.0              2.0   3.0         NaN   249900.0   \n",
       "2      1.0    2.0         2.0              2.0   3.0         NaN   377000.0   \n",
       "3      2.0    5.0         4.0              4.0   3.0         NaN   350000.0   \n",
       "4      1.0    3.0         3.0              3.0   3.0         NaN   349900.0   \n",
       "\n",
       "   garage_min  garage_type                                                url  \n",
       "0         NaN          NaN  https://www.realtor.com/realestateandhomes-det...  \n",
       "1         NaN          NaN  https://www.realtor.com/realestateandhomes-det...  \n",
       "2         NaN          NaN  https://www.realtor.com/realestateandhomes-det...  \n",
       "3         NaN          NaN  https://www.realtor.com/realestateandhomes-det...  \n",
       "4         NaN          NaN  https://www.realtor.com/realestateandhomes-det...  "
      ]
     },
     "execution_count": 25,
     "metadata": {},
     "output_type": "execute_result"
    }
   ],
   "source": [
    "df_vi.head()"
   ]
  },
  {
   "cell_type": "code",
   "execution_count": 26,
   "id": "9891ceb4",
   "metadata": {},
   "outputs": [
    {
     "data": {
      "text/plain": [
       "(6307, 19)"
      ]
     },
     "execution_count": 26,
     "metadata": {},
     "output_type": "execute_result"
    }
   ],
   "source": [
    "df_vi.shape"
   ]
  },
  {
   "cell_type": "code",
   "execution_count": 27,
   "id": "4ea927d5",
   "metadata": {},
   "outputs": [
    {
     "data": {
      "text/plain": [
       "Index(['type', 'sub_type', 'text', 'status', 'year_built', 'year_renovated',\n",
       "       'soldOn', 'lot_sqft', 'sqft', 'stories', 'baths', 'baths_full',\n",
       "       'baths_full_calc', 'beds', 'garage_max', 'listPrice', 'garage_min',\n",
       "       'garage_type', 'url'],\n",
       "      dtype='object')"
      ]
     },
     "execution_count": 27,
     "metadata": {},
     "output_type": "execute_result"
    }
   ],
   "source": [
    "df_vi.columns"
   ]
  },
  {
   "cell_type": "code",
   "execution_count": 28,
   "id": "b5902b14",
   "metadata": {},
   "outputs": [
    {
     "data": {
      "text/plain": [
       "type                  2\n",
       "sub_type           5686\n",
       "text                 65\n",
       "status                0\n",
       "year_built          770\n",
       "year_renovated     6307\n",
       "soldOn             2440\n",
       "lot_sqft            674\n",
       "sqft                640\n",
       "stories            1161\n",
       "baths                86\n",
       "baths_full          643\n",
       "baths_full_calc     643\n",
       "beds                584\n",
       "garage_max         6307\n",
       "listPrice            18\n",
       "garage_min         6307\n",
       "garage_type        6307\n",
       "url                   0\n",
       "dtype: int64"
      ]
     },
     "execution_count": 28,
     "metadata": {},
     "output_type": "execute_result"
    }
   ],
   "source": [
    "df_vi.isnull().sum()"
   ]
  },
  {
   "cell_type": "markdown",
   "id": "e114120b",
   "metadata": {},
   "source": [
    "#### Data Preprocessing"
   ]
  }
 ],
 "metadata": {
  "kernelspec": {
   "display_name": "Python 3",
   "language": "python",
   "name": "python3"
  },
  "language_info": {
   "codemirror_mode": {
    "name": "ipython",
    "version": 3
   },
   "file_extension": ".py",
   "mimetype": "text/x-python",
   "name": "python",
   "nbconvert_exporter": "python",
   "pygments_lexer": "ipython3",
   "version": "3.12.0"
  }
 },
 "nbformat": 4,
 "nbformat_minor": 5
}
